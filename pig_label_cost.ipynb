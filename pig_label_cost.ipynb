{
 "cells": [
  {
   "cell_type": "code",
   "execution_count": 1,
   "metadata": {},
   "outputs": [],
   "source": [
    "import os\n",
    "import re\n",
    "import zipfile\n",
    "import pandas as pd\n",
    "import numpy as np\n",
    "import matplotlib.pyplot as plt\n",
    "\n",
    "from PIL import Image\n",
    "import ast\n",
    "import json\n",
    "from glob import glob"
   ]
  },
  {
   "cell_type": "code",
   "execution_count": 2,
   "metadata": {},
   "outputs": [
    {
     "data": {
      "text/plain": [
       "True"
      ]
     },
     "execution_count": 2,
     "metadata": {},
     "output_type": "execute_result"
    }
   ],
   "source": [
    "#padded_image_shape = (1024, 1920)\n",
    "min_stride = 128\n",
    "padded_image_shape = (128*4, 128*8)\n",
    "anchor_k = 9\n",
    "num_classes = 80#\n",
    "max_data_m = 50#00\n",
    "edgecolors = np.random.rand(num_classes, 3) \n",
    "edgecolors = np.minimum(edgecolors+0.1, 1.0)\n",
    "#class_names = ['bg', 'pig', 'crow']\n",
    "class_names_kor = ['', '모름', '돼지', '멧돼지', '큰부리까마귀', '흰배지빠귀', '유리딱새', '동고비', \n",
    "               '박새', '호랑지빠귀', '검독수리', '너구리', '설치류', '다람쥐', '사람']\n",
    "class_names = ['bg','unknown', 'pig', 'boar', 'crow', 'bird_hinbejipagi', 'bird_ddaksae', \n",
    "               'bird_dongobi', 'bird_baksae', 'bird_horangjipagi', 'bird_eagle', \n",
    "               'racoon', 'rat', 'squrrel', 'human']\n",
    "\n",
    "folder_pig = 'D:/dataset/pig/'\n",
    "os.path.isdir(folder_pig)"
   ]
  },
  {
   "cell_type": "code",
   "execution_count": 3,
   "metadata": {},
   "outputs": [
    {
     "data": {
      "text/plain": [
       "<function str.endswith>"
      ]
     },
     "execution_count": 3,
     "metadata": {},
     "output_type": "execute_result"
    }
   ],
   "source": [
    "''.endswith"
   ]
  },
  {
   "cell_type": "code",
   "execution_count": 4,
   "metadata": {},
   "outputs": [],
   "source": [
    "def add_folder_to_file_name(folder_pig, path_csv):\n",
    "    path_csv = folder_pig + path_csv\n",
    "    path_weight = \"retinanet/pig_efficient_det_BiFPN_D3\"\n",
    "    print(os.path.isdir(folder_pig), os.path.isfile(path_csv))\n",
    "    if os.path.isfile(path_csv):\n",
    "        \n",
    "        df = pd.read_csv(path_csv)\n",
    "        df['filename'] = folder_pig + df['filename']\n",
    "        print('df', df.shape, df['filename'].nunique(), df['region_attributes'].nunique()  )\n",
    "        print(df['region_attributes'].unique())\n",
    "        return df\n",
    "    else:\n",
    "        return None\n"
   ]
  },
  {
   "cell_type": "code",
   "execution_count": 5,
   "metadata": {},
   "outputs": [],
   "source": [
    "def read_df(folder_pig, path_csv):\n",
    "    path_csv = folder_pig + path_csv\n",
    "    if path_csv.endswith('xlsx'):\n",
    "        df = pd.read_excel(path_csv)\n",
    "    else:\n",
    "        df = pd.read_csv(path_csv)\n",
    "    \n",
    "    print(df.shape)\n",
    "    return df"
   ]
  },
  {
   "cell_type": "code",
   "execution_count": 6,
   "metadata": {},
   "outputs": [
    {
     "data": {
      "text/plain": [
       "(73459,\n",
       " 'D:/dataset/pig/geomex-pig05\\\\2020-09-02\\\\image\\\\geomex-pig05_2020-09-02_121552_temp-22.00_wat-87.20.jpg')"
      ]
     },
     "execution_count": 6,
     "metadata": {},
     "output_type": "execute_result"
    }
   ],
   "source": [
    "#path_images = glob(folder_pig + 'pig2-2020-11/*/*/*.jpg')\n",
    "path_images = glob(folder_pig + 'geomex-pig05/*/*/*.jpg')\n",
    "#path_images = glob(folder_pig + 'pig6-2020-11/*/*/*.jpg')\n",
    "#path_images = glob(folder_pig + 'object3/*.jpg')\n",
    "len(path_images), path_images[0]"
   ]
  },
  {
   "cell_type": "code",
   "execution_count": 8,
   "metadata": {},
   "outputs": [
    {
     "name": "stdout",
     "output_type": "stream",
     "text": [
      "(2023, 7)\n"
     ]
    }
   ],
   "source": [
    "df = read_df(folder_pig, 'annotation/test5-202012-1.csv' )"
   ]
  },
  {
   "cell_type": "code",
   "execution_count": 9,
   "metadata": {
    "scrolled": false
   },
   "outputs": [
    {
     "data": {
      "text/plain": [
       "array(['{}', '{\"class\":\"모름\"}', '{\"class\":\"흰배지빠귀\"}', '{\"class\":\"유리딱새\"}',\n",
       "       '{\"class\":\"박새\"}', '{\"class\":\"큰부리까마귀\"}', '{\"class\":undefined}'],\n",
       "      dtype=object)"
      ]
     },
     "execution_count": 9,
     "metadata": {},
     "output_type": "execute_result"
    }
   ],
   "source": [
    "df['region_attributes'].unique()"
   ]
  },
  {
   "cell_type": "code",
   "execution_count": 20,
   "metadata": {},
   "outputs": [
    {
     "data": {
      "text/html": [
       "<div>\n",
       "<style scoped>\n",
       "    .dataframe tbody tr th:only-of-type {\n",
       "        vertical-align: middle;\n",
       "    }\n",
       "\n",
       "    .dataframe tbody tr th {\n",
       "        vertical-align: top;\n",
       "    }\n",
       "\n",
       "    .dataframe thead th {\n",
       "        text-align: right;\n",
       "    }\n",
       "</style>\n",
       "<table border=\"1\" class=\"dataframe\">\n",
       "  <thead>\n",
       "    <tr style=\"text-align: right;\">\n",
       "      <th></th>\n",
       "      <th>filename</th>\n",
       "      <th>file_size</th>\n",
       "      <th>file_attributes</th>\n",
       "      <th>region_count</th>\n",
       "      <th>region_id</th>\n",
       "      <th>region_shape_attributes</th>\n",
       "      <th>region_attributes</th>\n",
       "    </tr>\n",
       "  </thead>\n",
       "  <tbody>\n",
       "    <tr>\n",
       "      <th>1124</th>\n",
       "      <td>geomex-pig05_2020-12-01_155818_temp-2.10_wat-3...</td>\n",
       "      <td>360334</td>\n",
       "      <td>{}</td>\n",
       "      <td>1</td>\n",
       "      <td>0</td>\n",
       "      <td>{\"name\":\"rect\",\"x\":655,\"y\":473,\"width\":18,\"hei...</td>\n",
       "      <td>{\"class\":undefined}</td>\n",
       "    </tr>\n",
       "  </tbody>\n",
       "</table>\n",
       "</div>"
      ],
      "text/plain": [
       "                                               filename  file_size  \\\n",
       "1124  geomex-pig05_2020-12-01_155818_temp-2.10_wat-3...     360334   \n",
       "\n",
       "     file_attributes  region_count  region_id  \\\n",
       "1124              {}             1          0   \n",
       "\n",
       "                                region_shape_attributes    region_attributes  \n",
       "1124  {\"name\":\"rect\",\"x\":655,\"y\":473,\"width\":18,\"hei...  {\"class\":undefined}  "
      ]
     },
     "execution_count": 20,
     "metadata": {},
     "output_type": "execute_result"
    }
   ],
   "source": [
    "df[df['region_attributes']=='{\"class\":undefined}']"
   ]
  },
  {
   "cell_type": "code",
   "execution_count": 10,
   "metadata": {
    "scrolled": true
   },
   "outputs": [
    {
     "data": {
      "text/html": [
       "<div>\n",
       "<style scoped>\n",
       "    .dataframe tbody tr th:only-of-type {\n",
       "        vertical-align: middle;\n",
       "    }\n",
       "\n",
       "    .dataframe tbody tr th {\n",
       "        vertical-align: top;\n",
       "    }\n",
       "\n",
       "    .dataframe thead th {\n",
       "        text-align: right;\n",
       "    }\n",
       "</style>\n",
       "<table border=\"1\" class=\"dataframe\">\n",
       "  <thead>\n",
       "    <tr style=\"text-align: right;\">\n",
       "      <th></th>\n",
       "      <th>filename</th>\n",
       "      <th>file_size</th>\n",
       "      <th>file_attributes</th>\n",
       "      <th>region_count</th>\n",
       "      <th>region_id</th>\n",
       "      <th>region_shape_attributes</th>\n",
       "      <th>region_attributes</th>\n",
       "    </tr>\n",
       "  </thead>\n",
       "  <tbody>\n",
       "    <tr>\n",
       "      <th>0</th>\n",
       "      <td>geomex-pig05_2020-12-07_000056_temp-1.50_wat-9...</td>\n",
       "      <td>72362</td>\n",
       "      <td>{}</td>\n",
       "      <td>0</td>\n",
       "      <td>0</td>\n",
       "      <td>{}</td>\n",
       "      <td>{}</td>\n",
       "    </tr>\n",
       "    <tr>\n",
       "      <th>1</th>\n",
       "      <td>geomex-pig05_2020-12-07_000300_temp-1.40_wat-9...</td>\n",
       "      <td>71983</td>\n",
       "      <td>{}</td>\n",
       "      <td>0</td>\n",
       "      <td>0</td>\n",
       "      <td>{}</td>\n",
       "      <td>{}</td>\n",
       "    </tr>\n",
       "    <tr>\n",
       "      <th>2</th>\n",
       "      <td>geomex-pig05_2020-12-07_000825_temp-1.40_wat-9...</td>\n",
       "      <td>78608</td>\n",
       "      <td>{}</td>\n",
       "      <td>0</td>\n",
       "      <td>0</td>\n",
       "      <td>{}</td>\n",
       "      <td>{}</td>\n",
       "    </tr>\n",
       "    <tr>\n",
       "      <th>3</th>\n",
       "      <td>geomex-pig05_2020-12-07_001029_temp-1.30_wat-9...</td>\n",
       "      <td>71870</td>\n",
       "      <td>{}</td>\n",
       "      <td>0</td>\n",
       "      <td>0</td>\n",
       "      <td>{}</td>\n",
       "      <td>{}</td>\n",
       "    </tr>\n",
       "    <tr>\n",
       "      <th>4</th>\n",
       "      <td>geomex-pig05_2020-12-07_001234_temp-1.30_wat-9...</td>\n",
       "      <td>78994</td>\n",
       "      <td>{}</td>\n",
       "      <td>0</td>\n",
       "      <td>0</td>\n",
       "      <td>{}</td>\n",
       "      <td>{}</td>\n",
       "    </tr>\n",
       "    <tr>\n",
       "      <th>...</th>\n",
       "      <td>...</td>\n",
       "      <td>...</td>\n",
       "      <td>...</td>\n",
       "      <td>...</td>\n",
       "      <td>...</td>\n",
       "      <td>...</td>\n",
       "      <td>...</td>\n",
       "    </tr>\n",
       "    <tr>\n",
       "      <th>2018</th>\n",
       "      <td>geomex-pig05_2020-12-02_235101_temp--1.50_wat-...</td>\n",
       "      <td>72184</td>\n",
       "      <td>{}</td>\n",
       "      <td>0</td>\n",
       "      <td>0</td>\n",
       "      <td>{}</td>\n",
       "      <td>{}</td>\n",
       "    </tr>\n",
       "    <tr>\n",
       "      <th>2019</th>\n",
       "      <td>geomex-pig05_2020-12-02_235306_temp--1.50_wat-...</td>\n",
       "      <td>72236</td>\n",
       "      <td>{}</td>\n",
       "      <td>0</td>\n",
       "      <td>0</td>\n",
       "      <td>{}</td>\n",
       "      <td>{}</td>\n",
       "    </tr>\n",
       "    <tr>\n",
       "      <th>2020</th>\n",
       "      <td>geomex-pig05_2020-12-02_235511_temp--1.50_wat-...</td>\n",
       "      <td>78873</td>\n",
       "      <td>{}</td>\n",
       "      <td>0</td>\n",
       "      <td>0</td>\n",
       "      <td>{}</td>\n",
       "      <td>{}</td>\n",
       "    </tr>\n",
       "    <tr>\n",
       "      <th>2021</th>\n",
       "      <td>geomex-pig05_2020-12-02_235716_temp--1.50_wat-...</td>\n",
       "      <td>72205</td>\n",
       "      <td>{}</td>\n",
       "      <td>0</td>\n",
       "      <td>0</td>\n",
       "      <td>{}</td>\n",
       "      <td>{}</td>\n",
       "    </tr>\n",
       "    <tr>\n",
       "      <th>2022</th>\n",
       "      <td>geomex-pig05_2020-12-02_235921_temp--1.50_wat-...</td>\n",
       "      <td>71119</td>\n",
       "      <td>{}</td>\n",
       "      <td>0</td>\n",
       "      <td>0</td>\n",
       "      <td>{}</td>\n",
       "      <td>{}</td>\n",
       "    </tr>\n",
       "  </tbody>\n",
       "</table>\n",
       "<p>2023 rows × 7 columns</p>\n",
       "</div>"
      ],
      "text/plain": [
       "                                               filename  file_size  \\\n",
       "0     geomex-pig05_2020-12-07_000056_temp-1.50_wat-9...      72362   \n",
       "1     geomex-pig05_2020-12-07_000300_temp-1.40_wat-9...      71983   \n",
       "2     geomex-pig05_2020-12-07_000825_temp-1.40_wat-9...      78608   \n",
       "3     geomex-pig05_2020-12-07_001029_temp-1.30_wat-9...      71870   \n",
       "4     geomex-pig05_2020-12-07_001234_temp-1.30_wat-9...      78994   \n",
       "...                                                 ...        ...   \n",
       "2018  geomex-pig05_2020-12-02_235101_temp--1.50_wat-...      72184   \n",
       "2019  geomex-pig05_2020-12-02_235306_temp--1.50_wat-...      72236   \n",
       "2020  geomex-pig05_2020-12-02_235511_temp--1.50_wat-...      78873   \n",
       "2021  geomex-pig05_2020-12-02_235716_temp--1.50_wat-...      72205   \n",
       "2022  geomex-pig05_2020-12-02_235921_temp--1.50_wat-...      71119   \n",
       "\n",
       "     file_attributes  region_count  region_id region_shape_attributes  \\\n",
       "0                 {}             0          0                      {}   \n",
       "1                 {}             0          0                      {}   \n",
       "2                 {}             0          0                      {}   \n",
       "3                 {}             0          0                      {}   \n",
       "4                 {}             0          0                      {}   \n",
       "...              ...           ...        ...                     ...   \n",
       "2018              {}             0          0                      {}   \n",
       "2019              {}             0          0                      {}   \n",
       "2020              {}             0          0                      {}   \n",
       "2021              {}             0          0                      {}   \n",
       "2022              {}             0          0                      {}   \n",
       "\n",
       "     region_attributes  \n",
       "0                   {}  \n",
       "1                   {}  \n",
       "2                   {}  \n",
       "3                   {}  \n",
       "4                   {}  \n",
       "...                ...  \n",
       "2018                {}  \n",
       "2019                {}  \n",
       "2020                {}  \n",
       "2021                {}  \n",
       "2022                {}  \n",
       "\n",
       "[2023 rows x 7 columns]"
      ]
     },
     "execution_count": 10,
     "metadata": {},
     "output_type": "execute_result"
    }
   ],
   "source": [
    "df"
   ]
  },
  {
   "cell_type": "code",
   "execution_count": 11,
   "metadata": {
    "scrolled": false
   },
   "outputs": [
    {
     "name": "stdout",
     "output_type": "stream",
     "text": [
      "except filename 1124 geomex-pig05_2020-12-01_155818_temp-2.10_wat-37.10.jpg\n",
      "box {\"name\":\"rect\",\"x\":655,\"y\":473,\"width\":18,\"height\":19}\n",
      "region_attributes {\"class\":undefined}\n"
     ]
    }
   ],
   "source": [
    "annotation = dict()\n",
    "object_width_list = []\n",
    "for i in range(len(df)):\n",
    "    \n",
    "    sample_row = df.iloc[i]\n",
    "    filename = sample_row['filename']    \n",
    "    region_id = sample_row['region_id']\n",
    "    box = sample_row['region_shape_attributes']    \n",
    "    region_attributes = sample_row['region_attributes'] \n",
    "    if '(' in filename:\n",
    "        print('()', filename)\n",
    "    try:\n",
    "        box_map = ast.literal_eval(box)    \n",
    "        region_attributes = ast.literal_eval(region_attributes)        \n",
    "    except:\n",
    "        print('except filename',i, filename)\n",
    "        print('box', box)\n",
    "        print('region_attributes', region_attributes)\n",
    "        continue\n",
    "    \n",
    "    if len(box_map.keys())<1 or len(region_attributes.keys())<1 :\n",
    "        #print(i, 'no_keys_skip', filename.split(os.sep)[-1])\n",
    "        continue\n",
    "        \n",
    "    cls = region_attributes['class']\n",
    "    if cls in class_names_kor:\n",
    "        cls_num = class_names_kor.index(cls)\n",
    "    elif cls in class_names:\n",
    "        cls_num = class_names.index(cls)\n",
    "    else:\n",
    "        print('cls unknown', cls)\n",
    "        print('filename', filename)\n",
    "        continue\n",
    "        #xit()\n",
    "        \n",
    "    x0 = box_map['x']\n",
    "    y0 = box_map['y']\n",
    "    width = box_map['width']\n",
    "    height = box_map['height']    \n",
    "   \n",
    "    object_width_list.append(width)    \n",
    "    bbox = [cls_num, x0, y0, x0 + width, y0 + height]\n",
    "    \n",
    "    if filename not in annotation.keys():\n",
    "        annotation[filename] = []\n",
    "    \n",
    "    annotation[filename].append(bbox)            \n",
    "    #print(i, df.loc[i, 'filename'], width, height)"
   ]
  },
  {
   "cell_type": "code",
   "execution_count": 12,
   "metadata": {},
   "outputs": [
    {
     "data": {
      "text/plain": [
       "74"
      ]
     },
     "execution_count": 12,
     "metadata": {},
     "output_type": "execute_result"
    }
   ],
   "source": [
    "len(annotation)"
   ]
  },
  {
   "cell_type": "code",
   "execution_count": 13,
   "metadata": {},
   "outputs": [
    {
     "name": "stdout",
     "output_type": "stream",
     "text": [
      "74 74\n"
     ]
    }
   ],
   "source": [
    "def load_pig():\n",
    "    input_list = []\n",
    "    bbox_list = []\n",
    "    path_list = []\n",
    "    for path_image in annotation:\n",
    "        cls_bbox = annotation[path_image]\n",
    "        cls_bbox = np.array(cls_bbox).reshape([-1, 5])\n",
    "        cls = cls_bbox[:, 0:1]\n",
    "        bbox = np.array(cls_bbox[:, 1:])\n",
    "        \n",
    "        #print('path_image', path_image)\n",
    "        if True:\n",
    "            for full_path in path_images:\n",
    "                if path_image in full_path:\n",
    "                    path_image = full_path\n",
    "\n",
    "        if os.path.isfile(path_image):\n",
    "            img = Image.open(path_image)    \n",
    "            #img = img.resize((1000,500))\n",
    "           \n",
    "            scale = np.array((img.width, img.height, img.width, img.height))\n",
    "            scale = np.reshape(scale, (1, 4))       \n",
    "            #print(key, cls, cls_bbox.dtype, cls_bbox, 'wh',img.width, img.height)\n",
    "            img_arr = np.array(img)        \n",
    "            del img\n",
    "            bbox_norm = bbox.astype(np.float) / scale.astype(np.float)\n",
    "            cls = np.array(cls).reshape((-1, 1))\n",
    "            cls_bbox_norm = np.concatenate((cls, bbox_norm), axis=1)\n",
    "                \n",
    "            input_list.append(img_arr)\n",
    "            bbox_list.append(cls_bbox_norm)\n",
    "            path_list.append(full_path)\n",
    "            if len(input_list)%100==0:        \n",
    "                print(len(annotation), len(input_list), len(bbox_list))   \n",
    "        else:\n",
    "            print('not exist', path_image)\n",
    "\n",
    "    print(len(input_list), len(bbox_list))\n",
    "    return input_list, bbox_list\n",
    "    \n",
    "input_list_pig, bbox_list_pig = load_pig()#1709, 1759"
   ]
  },
  {
   "cell_type": "markdown",
   "metadata": {},
   "source": [
    "비용"
   ]
  },
  {
   "cell_type": "code",
   "execution_count": 27,
   "metadata": {},
   "outputs": [
    {
     "data": {
      "text/plain": [
       "(65, (78, 5))"
      ]
     },
     "execution_count": 27,
     "metadata": {},
     "output_type": "execute_result"
    }
   ],
   "source": [
    "boxes = np.concatenate(bbox_list_pig, 0)\n",
    "cls = boxes[:, 0]\n",
    "np.sum(cls > 3), boxes.shape"
   ]
  },
  {
   "cell_type": "code",
   "execution_count": 24,
   "metadata": {},
   "outputs": [
    {
     "data": {
      "text/plain": [
       "74"
      ]
     },
     "execution_count": 24,
     "metadata": {},
     "output_type": "execute_result"
    }
   ],
   "source": [
    "len(input_list_pig)"
   ]
  },
  {
   "cell_type": "code",
   "execution_count": 25,
   "metadata": {},
   "outputs": [
    {
     "data": {
      "text/plain": [
       "['',\n",
       " '모름',\n",
       " '돼지',\n",
       " '멧돼지',\n",
       " '큰부리까마귀',\n",
       " '흰배지빠귀',\n",
       " '유리딱새',\n",
       " '동고비',\n",
       " '박새',\n",
       " '호랑지빠귀',\n",
       " '검독수리',\n",
       " '너구리',\n",
       " '설치류',\n",
       " '다람쥐',\n",
       " '사람']"
      ]
     },
     "execution_count": 25,
     "metadata": {},
     "output_type": "execute_result"
    }
   ],
   "source": [
    "class_names_kor"
   ]
  },
  {
   "cell_type": "code",
   "execution_count": 42,
   "metadata": {},
   "outputs": [
    {
     "data": {
      "text/plain": [
       "(13, 65, 74)"
      ]
     },
     "execution_count": 42,
     "metadata": {},
     "output_type": "execute_result"
    }
   ],
   "source": [
    "np.sum(cls == class_names_kor.index('큰부리까마귀')), np.sum(cls != class_names_kor.index('큰부리까마귀')), len(input_list_pig)"
   ]
  },
  {
   "cell_type": "code",
   "execution_count": 40,
   "metadata": {},
   "outputs": [],
   "source": [
    "cost_image = 20\n",
    "cost_crow = 20\n",
    "cost_crow_other = 100"
   ]
  },
  {
   "cell_type": "code",
   "execution_count": 44,
   "metadata": {},
   "outputs": [
    {
     "data": {
      "text/plain": [
       "8240"
      ]
     },
     "execution_count": 44,
     "metadata": {},
     "output_type": "execute_result"
    }
   ],
   "source": [
    "cost_crow * np.sum(cls == class_names_kor.index('큰부리까마귀')) + cost_crow_other * np.sum(cls != class_names_kor.index('큰부리까마귀')) +  cost_image * len(input_list_pig)"
   ]
  },
  {
   "cell_type": "code",
   "execution_count": null,
   "metadata": {},
   "outputs": [],
   "source": []
  },
  {
   "cell_type": "code",
   "execution_count": 16,
   "metadata": {},
   "outputs": [],
   "source": [
    "def crop_bbox_image(image, boxes):\n",
    "    img_objects = []\n",
    "    image = np.array(image)\n",
    "    for box in boxes:        \n",
    "        box = box.astype(np.int)\n",
    "        x1, y1, x2, y2 = box\n",
    "        w = x2 - x1\n",
    "        h = y2 - y1        \n",
    "        crop_image_arr = image[y1:y2, x1:x2]\n",
    "        ch, cw, cc = crop_image_arr.shape\n",
    "        if ch>1 and cw>1:\n",
    "            img_objects.append(crop_image_arr)\n",
    "        else:\n",
    "            print('crop_bbox_image', x2-x1, y2-y1, 'crop_image_arr.shape', crop_image_arr.shape)\n",
    "        \n",
    "    return img_objects\n",
    "    \n",
    "    \n",
    "def attach_crop_image(image, boxes, max_crop=200):\n",
    "        \n",
    "    crop_bbox_arr = crop_bbox_image(image, np.array(boxes)[:max_crop])\n",
    "    bbox_k = len(crop_bbox_arr)\n",
    "    max_col = 30\n",
    "    \n",
    "    if bbox_k > 0:\n",
    "        img_h, img_w, img_c = image.shape\n",
    "        object_img_w = img_w//bbox_k        \n",
    "        resize_h = img_h // 8\n",
    "        resize_w = img_w // bbox_k  \n",
    "        resize_w = min(max(resize_w, img_w//max_col), img_w//8)\n",
    "        \n",
    "        footer_h = resize_h * (1 + (bbox_k-1)//max_col)\n",
    "        footer = np.zeros((footer_h, img_w, img_c), np.uint8)\n",
    "        \n",
    "        for i in range(min(bbox_k, max_crop)):\n",
    "            crop_arr = crop_bbox_arr[i]\n",
    "            crop_img = Image.fromarray(crop_arr)                \n",
    "            crop_img = crop_img.resize((resize_w, resize_h))\n",
    "            crop_arr_resized = np.array(crop_img)\n",
    "            offset_y = (i//max_col) * resize_h\n",
    "            offset_x = (i%max_col) * resize_w\n",
    "            footer[offset_y:offset_y+resize_h, offset_x:offset_x+resize_w] = crop_arr_resized\n",
    "\n",
    "        seperate_line = np.zeros_like(footer[:2])\n",
    "        image = np.concatenate((image, seperate_line, footer), axis=0)    \n",
    "    return image    "
   ]
  },
  {
   "cell_type": "code",
   "execution_count": 17,
   "metadata": {},
   "outputs": [],
   "source": [
    "def visualize_detections_simple(\n",
    "    image, boxes, classes, figsize=(12, 12), linewidth=1, color=[0, 0, 1]\n",
    "):\n",
    "    \"\"\"Visualize Detections\"\"\"\n",
    "    image = np.array(image, dtype=np.uint8)    \n",
    "    \n",
    "    img_h, img_w, img_c = image.shape\n",
    "    \n",
    "    image = attach_crop_image(image, boxes, max_crop=100)\n",
    "    \n",
    "    plt.figure(figsize=figsize)\n",
    "    plt.axis(\"off\")\n",
    "    plt.imshow(image)\n",
    "    ax = plt.gca()\n",
    "    boxes_width = boxes[:, 2] - boxes[:, 0]\n",
    "    boxes_height = boxes[:, 3] - boxes[:, 1]\n",
    "    box_min_width = np.min(boxes_width)\n",
    "    box_max_width = np.max(boxes_width)\n",
    "    title = str.format('(%dx%d) %d box, width:%d ~ %d' \n",
    "                       %(img_h, img_w, len(boxes), box_min_width, box_max_width))\n",
    "    plt.title(title)\n",
    "    for box, cls in zip(boxes, classes):\n",
    "        x1, y1, x2, y2 = box        \n",
    "        w, h = x2 - x1, y2 - y1\n",
    "        color = edgecolors[int(cls)]\n",
    "        patch = plt.Rectangle(\n",
    "            [x1, y1], w, h, fill=False, edgecolor=color, linewidth=linewidth\n",
    "        )\n",
    "        ax.add_patch(patch)\n",
    "        if len(boxes) < 70:\n",
    "            score_txt = class_names[int(cls)]\n",
    "            ax.text(x1, y1, score_txt, bbox={\"facecolor\": [1,1,0], \"alpha\": 0.4}, clip_box=ax.clipbox, clip_on=True,)\n",
    "        \n",
    "    plt.show()\n",
    "    return ax\n",
    "\n",
    "def display_data(X, BBOX, stride=1):\n",
    "    for i in range(len(X)):\n",
    "        if i%stride==0:\n",
    "            img_arr = X[i]\n",
    "            sample_box = BBOX[i]\n",
    "            label = sample_box[:, 0]\n",
    "            bbox = sample_box[:, 1:]\n",
    "\n",
    "            h, w, c = img_arr.shape\n",
    "            scale = np.array((w, h, w, h))\n",
    "            scale = np.reshape(scale, (1, 4))\n",
    "            bbox_norm = bbox.astype(np.float) * scale.astype(np.float)\n",
    "            #print('bbox_norm', bbox, bbox_norm)\n",
    "            print(i, np.unique(label))\n",
    "            ax = visualize_detections_simple(img_arr,bbox_norm,label)"
   ]
  },
  {
   "cell_type": "code",
   "execution_count": null,
   "metadata": {},
   "outputs": [],
   "source": [
    "display_data(input_list_pig, bbox_list_pig, stride=1)"
   ]
  },
  {
   "cell_type": "code",
   "execution_count": null,
   "metadata": {},
   "outputs": [],
   "source": []
  },
  {
   "cell_type": "code",
   "execution_count": null,
   "metadata": {},
   "outputs": [],
   "source": []
  }
 ],
 "metadata": {
  "kernelspec": {
   "display_name": "Python 3",
   "language": "python",
   "name": "python3"
  },
  "language_info": {
   "codemirror_mode": {
    "name": "ipython",
    "version": 3
   },
   "file_extension": ".py",
   "mimetype": "text/x-python",
   "name": "python",
   "nbconvert_exporter": "python",
   "pygments_lexer": "ipython3",
   "version": "3.8.5"
  }
 },
 "nbformat": 4,
 "nbformat_minor": 4
}
