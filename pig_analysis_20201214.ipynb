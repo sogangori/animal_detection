{
 "cells": [
  {
   "cell_type": "code",
   "execution_count": 380,
   "metadata": {},
   "outputs": [],
   "source": [
    "import pandas as pd\n",
    "import os\n",
    "import matplotlib.pyplot as plt\n",
    "import numpy as np\n",
    "from glob import glob"
   ]
  },
  {
   "cell_type": "code",
   "execution_count": 99,
   "metadata": {},
   "outputs": [],
   "source": [
    "from matplotlib import font_manager, rc\n",
    "font_name = font_manager.FontProperties(fname=\"c:/Windows/Fonts/malgun.ttf\").get_name()\n",
    "rc('font', family=font_name)"
   ]
  },
  {
   "cell_type": "code",
   "execution_count": 100,
   "metadata": {},
   "outputs": [
    {
     "data": {
      "text/plain": [
       "True"
      ]
     },
     "execution_count": 100,
     "metadata": {},
     "output_type": "execute_result"
    }
   ],
   "source": [
    "os.path.isfile(\"c:/Windows/Fonts/malgun.ttf\")"
   ]
  },
  {
   "cell_type": "code",
   "execution_count": 101,
   "metadata": {},
   "outputs": [
    {
     "data": {
      "text/plain": [
       "Text(0.5, 1.0, '헬로')"
      ]
     },
     "execution_count": 101,
     "metadata": {},
     "output_type": "execute_result"
    },
    {
     "data": {
      "image/png": "[encoded data removed]",
      "text/plain": [
       "<Figure size 432x288 with 1 Axes>"
      ]
     },
     "metadata": {
      "needs_background": "light"
     },
     "output_type": "display_data"
    }
   ],
   "source": [
    "plt.title('헬로')"
   ]
  },
  {
   "cell_type": "code",
   "execution_count": 373,
   "metadata": {},
   "outputs": [
    {
     "data": {
      "text/plain": [
       "(11, 11)"
      ]
     },
     "execution_count": 373,
     "metadata": {},
     "output_type": "execute_result"
    }
   ],
   "source": [
    "site_dict = {1:'K4', 2:'H2', 3:'H3', 4:'K2', 5:'K3', 6:'K5'}\n",
    "class_kor = ['돼지', '모름', '멧돼지','흰배지빠귀','까마귀','다람쥐','호랑지빠귀','설치류','딱새','동고비','너구리']\n",
    "class_eng = ['pig', 'unknown', 'boar', 'hinbejipagi', 'crow', 'squrrel', 'horangjipagi', 'rat', 'ddaksae', 'dongobi', 'racoon']\n",
    "#class_eng = [None, None, None, 'hinbejipagi', 'crow', 'squrrel', 'horangjipagi', 'rat', 'ddaksae', 'dongobi', 'racoon']\n",
    "#category = ['mammal', 'unknown', 'mammal', 'bird', 'bird', 'mammal', 'bird', 'mammal', 'bird', 'bird', 'mammal']\n",
    "category = ['포유류', '조류', '포유류', '조류', '조류', '포유류', '조류', '포유류', '조류', '조류', '포유류']\n",
    "#category = [None, None, None,          '조류', '조류', '포유류', '조류', '포유류', '조류', '조류', '포유류']\n",
    "len(class_kor), len(class_eng)"
   ]
  },
  {
   "cell_type": "code",
   "execution_count": 374,
   "metadata": {},
   "outputs": [
    {
     "data": {
      "text/plain": [
       "158302"
      ]
     },
     "execution_count": 374,
     "metadata": {},
     "output_type": "execute_result"
    }
   ],
   "source": [
    "image_size = 334430\n",
    "#16, 25, 3, 4 , 1,5 * 66%\n",
    "i16 = 20175390931 //image_size\n",
    "i25 = 17176365274 // image_size\n",
    "i3 = 6992241170  // image_size\n",
    "i4 = 8597581233 //image_size\n",
    "\n",
    "iall = i16+i25+i3+i4\n",
    "iall"
   ]
  },
  {
   "cell_type": "code",
   "execution_count": 375,
   "metadata": {},
   "outputs": [
    {
     "data": {
      "text/plain": [
       "[39815, 17463, 20907, 25708, 33897, 20512]"
      ]
     },
     "execution_count": 375,
     "metadata": {},
     "output_type": "execute_result"
    }
   ],
   "source": [
    "i1 = int(i16*0.66)\n",
    "i6 = i16 - i1\n",
    "i5 = int(i25*0.66)\n",
    "i2 = i25 - i5\n",
    "image_m = [i1, i2, i3, i4, i5, i6]\n",
    "image_m"
   ]
  },
  {
   "cell_type": "code",
   "execution_count": 378,
   "metadata": {},
   "outputs": [
    {
     "data": {
      "text/plain": [
       "({1: 'K4', 2: 'H2', 3: 'H3', 4: 'K2', 5: 'K3', 6: 'K5'},\n",
       " dict_values(['K4', 'H2', 'H3', 'K2', 'K3', 'K5']))"
      ]
     },
     "execution_count": 378,
     "metadata": {},
     "output_type": "execute_result"
    }
   ],
   "source": [
    "site_dict, site_dict.values()"
   ]
  },
  {
   "cell_type": "code",
   "execution_count": 412,
   "metadata": {},
   "outputs": [
    {
     "data": {
      "text/plain": [
       "['box1.csv', 'box2.csv', 'box3.csv', 'box4.csv', 'box5.csv', 'box6.csv']"
      ]
     },
     "execution_count": 412,
     "metadata": {},
     "output_type": "execute_result"
    }
   ],
   "source": [
    "box_csv = sorted(glob('box*.csv'))\n",
    "box_csv"
   ]
  },
  {
   "cell_type": "code",
   "execution_count": 413,
   "metadata": {
    "scrolled": true
   },
   "outputs": [
    {
     "name": "stdout",
     "output_type": "stream",
     "text": [
      "box1.csv (4153, 7) 1980\n",
      "box2.csv (855, 7) 402\n",
      "box3.csv (7394, 7) 4313\n",
      "box4.csv (6519, 7) 1849\n",
      "box5.csv (1777, 7) 693\n",
      "box6.csv (1041, 7) 332\n"
     ]
    }
   ],
   "source": [
    "values = []\n",
    "for path in box_csv:    \n",
    "    df = pd.read_csv(path)\n",
    "    print(path, df.shape, df['filename'].nunique())\n",
    "    site = path[3:4]\n",
    "    site = int(site)\n",
    "    values.append([site, df['filename'].nunique(), len(df)])"
   ]
  },
  {
   "cell_type": "markdown",
   "metadata": {},
   "source": [
    "### 라벨링 작업한 이미지와 박스의 개수"
   ]
  },
  {
   "cell_type": "code",
   "execution_count": 415,
   "metadata": {},
   "outputs": [
    {
     "data": {
      "text/html": [
       "<div>\n",
       "<style scoped>\n",
       "    .dataframe tbody tr th:only-of-type {\n",
       "        vertical-align: middle;\n",
       "    }\n",
       "\n",
       "    .dataframe tbody tr th {\n",
       "        vertical-align: top;\n",
       "    }\n",
       "\n",
       "    .dataframe thead th {\n",
       "        text-align: right;\n",
       "    }\n",
       "</style>\n",
       "<table border=\"1\" class=\"dataframe\">\n",
       "  <thead>\n",
       "    <tr style=\"text-align: right;\">\n",
       "      <th></th>\n",
       "      <th>image</th>\n",
       "      <th>bbox</th>\n",
       "    </tr>\n",
       "    <tr>\n",
       "      <th>site</th>\n",
       "      <th></th>\n",
       "      <th></th>\n",
       "    </tr>\n",
       "  </thead>\n",
       "  <tbody>\n",
       "    <tr>\n",
       "      <th>H2</th>\n",
       "      <td>402</td>\n",
       "      <td>855</td>\n",
       "    </tr>\n",
       "    <tr>\n",
       "      <th>H3</th>\n",
       "      <td>4313</td>\n",
       "      <td>7394</td>\n",
       "    </tr>\n",
       "    <tr>\n",
       "      <th>K2</th>\n",
       "      <td>1849</td>\n",
       "      <td>6519</td>\n",
       "    </tr>\n",
       "    <tr>\n",
       "      <th>K3</th>\n",
       "      <td>693</td>\n",
       "      <td>1777</td>\n",
       "    </tr>\n",
       "    <tr>\n",
       "      <th>K4</th>\n",
       "      <td>1980</td>\n",
       "      <td>4153</td>\n",
       "    </tr>\n",
       "    <tr>\n",
       "      <th>K5</th>\n",
       "      <td>332</td>\n",
       "      <td>1041</td>\n",
       "    </tr>\n",
       "    <tr>\n",
       "      <th>sum</th>\n",
       "      <td>9569</td>\n",
       "      <td>21739</td>\n",
       "    </tr>\n",
       "  </tbody>\n",
       "</table>\n",
       "</div>"
      ],
      "text/plain": [
       "      image   bbox\n",
       "site              \n",
       "H2      402    855\n",
       "H3     4313   7394\n",
       "K2     1849   6519\n",
       "K3      693   1777\n",
       "K4     1980   4153\n",
       "K5      332   1041\n",
       "sum    9569  21739"
      ]
     },
     "execution_count": 415,
     "metadata": {},
     "output_type": "execute_result"
    }
   ],
   "source": [
    "df_label_count = pd.DataFrame(values, columns=['site', 'image', 'bbox'])\n",
    "df_label_count['site'] = df_label_count['site'].replace(site_dict)\n",
    "df_label_count = df_label_count.set_index('site').sort_index()\n",
    "df_label_count.loc['sum'] = df_label_count.sum()\n",
    "df_label_count"
   ]
  },
  {
   "cell_type": "markdown",
   "metadata": {},
   "source": [
    "### 딥러닝 모델 설명"
   ]
  },
  {
   "cell_type": "markdown",
   "metadata": {},
   "source": [
    "검출 성능 recall, precision : 85%"
   ]
  },
  {
   "cell_type": "code",
   "execution_count": null,
   "metadata": {},
   "outputs": [],
   "source": []
  },
  {
   "cell_type": "code",
   "execution_count": null,
   "metadata": {},
   "outputs": [],
   "source": []
  },
  {
   "cell_type": "code",
   "execution_count": 160,
   "metadata": {},
   "outputs": [
    {
     "name": "stdout",
     "output_type": "stream",
     "text": [
      " C 드라이브의 볼륨에는 이름이 없습니다.\n",
      " 볼륨 일련 번호: 02D7-513A\n",
      "\n",
      " C:\\Users\\mikael\\Documents 디렉터리\n",
      "\n",
      "2020-12-14  오후 02:03    <DIR>          .\n",
      "2020-12-14  오후 02:03    <DIR>          ..\n",
      "2020-12-14  오후 01:53    <DIR>          .ipynb_checkpoints\n",
      "2020-12-14  오후 02:02         1,660,509 all.csv\n",
      "2020-12-14  오후 01:48           718,134 box1.csv\n",
      "2020-12-14  오후 01:58           147,209 box2.csv\n",
      "2020-12-14  오후 01:58           203,415 box2.json\n",
      "2020-12-14  오후 01:58           982,224 box3.csv\n",
      "2020-12-14  오후 01:58         1,562,466 box3.json\n",
      "2020-12-14  오후 01:48         1,150,853 box4.csv\n",
      "2020-12-14  오후 01:48           302,807 box5.csv\n",
      "2020-12-14  오후 01:48           177,140 box6.csv\n",
      "2020-12-14  오전 09:36           605,682 pig _10-31.csv\n",
      "2020-12-14  오후 01:49            83,345 pig_analysis.ipynb\n",
      "2020-12-14  오후 02:03           546,716 pig_preprocess.ipynb\n",
      "2020-12-14  오후 01:57    <DIR>          via-2.0.10\n",
      "2020-12-14  오후 01:55         1,006,745 via-2.0.10.zip\n",
      "2020-12-11  오후 03:20    <DIR>          네이트온 받은 파일\n",
      "              13개 파일           9,147,245 바이트\n",
      "               5개 디렉터리  169,573,498,880 바이트 남음\n"
     ]
    }
   ],
   "source": [
    "!dir"
   ]
  },
  {
   "cell_type": "code",
   "execution_count": 419,
   "metadata": {},
   "outputs": [
    {
     "data": {
      "text/plain": [
       "True"
      ]
     },
     "execution_count": 419,
     "metadata": {},
     "output_type": "execute_result"
    }
   ],
   "source": [
    "#path = 'C:/Users/mikael/Downloads/pig _10-31.csv'\n",
    "path = 'pig _10-31.csv'\n",
    "path = 'pig_10-31.csv'\n",
    "os.path.isfile(path)"
   ]
  },
  {
   "cell_type": "code",
   "execution_count": 420,
   "metadata": {},
   "outputs": [
    {
     "data": {
      "text/plain": [
       "(16812, 3)"
      ]
     },
     "execution_count": 420,
     "metadata": {},
     "output_type": "execute_result"
    }
   ],
   "source": [
    "df = pd.read_csv(path)\n",
    "df = df.drop(columns=['Unnamed: 0','temp', 'wat'])\n",
    "df.shape"
   ]
  },
  {
   "cell_type": "code",
   "execution_count": 421,
   "metadata": {},
   "outputs": [
    {
     "data": {
      "text/html": [
       "<div>\n",
       "<style scoped>\n",
       "    .dataframe tbody tr th:only-of-type {\n",
       "        vertical-align: middle;\n",
       "    }\n",
       "\n",
       "    .dataframe tbody tr th {\n",
       "        vertical-align: top;\n",
       "    }\n",
       "\n",
       "    .dataframe thead th {\n",
       "        text-align: right;\n",
       "    }\n",
       "</style>\n",
       "<table border=\"1\" class=\"dataframe\">\n",
       "  <thead>\n",
       "    <tr style=\"text-align: right;\">\n",
       "      <th></th>\n",
       "      <th>cls</th>\n",
       "      <th>site</th>\n",
       "      <th>date</th>\n",
       "    </tr>\n",
       "  </thead>\n",
       "  <tbody>\n",
       "    <tr>\n",
       "      <th>0</th>\n",
       "      <td>pig</td>\n",
       "      <td>1</td>\n",
       "      <td>2020-09-03 12:54:16</td>\n",
       "    </tr>\n",
       "  </tbody>\n",
       "</table>\n",
       "</div>"
      ],
      "text/plain": [
       "   cls  site                 date\n",
       "0  pig     1  2020-09-03 12:54:16"
      ]
     },
     "execution_count": 421,
     "metadata": {},
     "output_type": "execute_result"
    }
   ],
   "source": [
    "df.head(1)"
   ]
  },
  {
   "cell_type": "code",
   "execution_count": 422,
   "metadata": {},
   "outputs": [
    {
     "data": {
      "text/plain": [
       "cls     object\n",
       "site     int64\n",
       "date    object\n",
       "dtype: object"
      ]
     },
     "execution_count": 422,
     "metadata": {},
     "output_type": "execute_result"
    }
   ],
   "source": [
    "df.dtypes"
   ]
  },
  {
   "cell_type": "code",
   "execution_count": 423,
   "metadata": {},
   "outputs": [
    {
     "data": {
      "text/plain": [
       "0"
      ]
     },
     "execution_count": 423,
     "metadata": {},
     "output_type": "execute_result"
    }
   ],
   "source": [
    "df.isna().sum().sum()"
   ]
  },
  {
   "cell_type": "code",
   "execution_count": 424,
   "metadata": {},
   "outputs": [
    {
     "data": {
      "text/plain": [
       "array(['pig', 'racoon', 'unknown', 'boar', 'hinbejipagi', 'crow',\n",
       "       'squrrel', 'horangjipagi', 'rat', 'ddaksae', 'dongobi'],\n",
       "      dtype=object)"
      ]
     },
     "execution_count": 424,
     "metadata": {},
     "output_type": "execute_result"
    }
   ],
   "source": [
    "df['cls'].unique()"
   ]
  },
  {
   "cell_type": "code",
   "execution_count": 425,
   "metadata": {},
   "outputs": [
    {
     "data": {
      "text/plain": [
       "array([1, 2, 3, 4, 5], dtype=int64)"
      ]
     },
     "execution_count": 425,
     "metadata": {},
     "output_type": "execute_result"
    }
   ],
   "source": [
    "df['site'].unique()"
   ]
  },
  {
   "cell_type": "code",
   "execution_count": 426,
   "metadata": {},
   "outputs": [
    {
     "data": {
      "text/plain": [
       "5828"
      ]
     },
     "execution_count": 426,
     "metadata": {},
     "output_type": "execute_result"
    }
   ],
   "source": [
    "df['date'].nunique()"
   ]
  },
  {
   "cell_type": "code",
   "execution_count": 427,
   "metadata": {},
   "outputs": [
    {
     "data": {
      "text/html": [
       "<div>\n",
       "<style scoped>\n",
       "    .dataframe tbody tr th:only-of-type {\n",
       "        vertical-align: middle;\n",
       "    }\n",
       "\n",
       "    .dataframe tbody tr th {\n",
       "        vertical-align: top;\n",
       "    }\n",
       "\n",
       "    .dataframe thead th {\n",
       "        text-align: right;\n",
       "    }\n",
       "</style>\n",
       "<table border=\"1\" class=\"dataframe\">\n",
       "  <thead>\n",
       "    <tr style=\"text-align: right;\">\n",
       "      <th></th>\n",
       "      <th>cls</th>\n",
       "      <th>site</th>\n",
       "      <th>date</th>\n",
       "    </tr>\n",
       "  </thead>\n",
       "  <tbody>\n",
       "    <tr>\n",
       "      <th>0</th>\n",
       "      <td>pig</td>\n",
       "      <td>1</td>\n",
       "      <td>2020-09-03 12:54:16</td>\n",
       "    </tr>\n",
       "    <tr>\n",
       "      <th>1</th>\n",
       "      <td>pig</td>\n",
       "      <td>1</td>\n",
       "      <td>2020-09-03 12:59:56</td>\n",
       "    </tr>\n",
       "    <tr>\n",
       "      <th>2</th>\n",
       "      <td>pig</td>\n",
       "      <td>1</td>\n",
       "      <td>2020-09-03 13:02:46</td>\n",
       "    </tr>\n",
       "    <tr>\n",
       "      <th>3</th>\n",
       "      <td>pig</td>\n",
       "      <td>1</td>\n",
       "      <td>2020-09-03 13:05:36</td>\n",
       "    </tr>\n",
       "    <tr>\n",
       "      <th>4</th>\n",
       "      <td>pig</td>\n",
       "      <td>1</td>\n",
       "      <td>2020-09-03 13:08:27</td>\n",
       "    </tr>\n",
       "  </tbody>\n",
       "</table>\n",
       "</div>"
      ],
      "text/plain": [
       "   cls  site                 date\n",
       "0  pig     1  2020-09-03 12:54:16\n",
       "1  pig     1  2020-09-03 12:59:56\n",
       "2  pig     1  2020-09-03 13:02:46\n",
       "3  pig     1  2020-09-03 13:05:36\n",
       "4  pig     1  2020-09-03 13:08:27"
      ]
     },
     "execution_count": 427,
     "metadata": {},
     "output_type": "execute_result"
    }
   ],
   "source": [
    "df.head()"
   ]
  },
  {
   "cell_type": "code",
   "execution_count": 428,
   "metadata": {},
   "outputs": [
    {
     "data": {
      "text/plain": [
       "True"
      ]
     },
     "execution_count": 428,
     "metadata": {},
     "output_type": "execute_result"
    }
   ],
   "source": [
    "'a' in ['a', 'b']"
   ]
  },
  {
   "cell_type": "code",
   "execution_count": 429,
   "metadata": {},
   "outputs": [
    {
     "data": {
      "text/plain": [
       "array([0, 1], dtype=object)"
      ]
     },
     "execution_count": 429,
     "metadata": {},
     "output_type": "execute_result"
    }
   ],
   "source": [
    "cls = df['cls'].values.copy()\n",
    "for i in range(len(cls)):        \n",
    "    c = cls[i]\n",
    "    if c in ['pig', 'unknown', 'boar']:\n",
    "        cls[i] = 0\n",
    "    else:\n",
    "        cls[i] = 1\n",
    "\n",
    "np.unique(cls)"
   ]
  },
  {
   "cell_type": "code",
   "execution_count": 430,
   "metadata": {
    "scrolled": true
   },
   "outputs": [
    {
     "name": "stdout",
     "output_type": "stream",
     "text": [
      "16812\n",
      "10502\n"
     ]
    }
   ],
   "source": [
    "print(len(df))\n",
    "df = df[cls>0]\n",
    "print(len(df))"
   ]
  },
  {
   "cell_type": "code",
   "execution_count": null,
   "metadata": {},
   "outputs": [],
   "source": []
  },
  {
   "cell_type": "code",
   "execution_count": 431,
   "metadata": {},
   "outputs": [],
   "source": [
    "class_dict = dict()\n",
    "category_dict = dict()\n",
    "for e, k, c in zip(class_eng, class_kor, category):\n",
    "    class_dict[e] = k\n",
    "    category_dict[e] = c"
   ]
  },
  {
   "cell_type": "code",
   "execution_count": 432,
   "metadata": {},
   "outputs": [],
   "source": [
    "df['category'] = df['cls'].replace(category_dict)\n",
    "df['cls'] = df['cls'].replace(class_dict)"
   ]
  },
  {
   "cell_type": "code",
   "execution_count": 433,
   "metadata": {},
   "outputs": [],
   "source": [
    "df['date'] = pd.to_datetime(df['date'], format='%Y-%m-%d %H:%M:%S')"
   ]
  },
  {
   "cell_type": "code",
   "execution_count": 434,
   "metadata": {},
   "outputs": [
    {
     "data": {
      "text/plain": [
       "(Timestamp('2020-08-30 18:22:10'), Timestamp('2020-11-02 16:54:31'))"
      ]
     },
     "execution_count": 434,
     "metadata": {},
     "output_type": "execute_result"
    }
   ],
   "source": [
    "df['date'].min(), df['date'].max()"
   ]
  },
  {
   "cell_type": "code",
   "execution_count": 435,
   "metadata": {},
   "outputs": [
    {
     "data": {
      "text/plain": [
       "0"
      ]
     },
     "execution_count": 435,
     "metadata": {},
     "output_type": "execute_result"
    }
   ],
   "source": [
    "df.isna().sum().sum()"
   ]
  },
  {
   "cell_type": "code",
   "execution_count": 436,
   "metadata": {},
   "outputs": [],
   "source": [
    "df = df.dropna()"
   ]
  },
  {
   "cell_type": "code",
   "execution_count": 437,
   "metadata": {},
   "outputs": [
    {
     "data": {
      "text/plain": [
       "(10502, 5295)"
      ]
     },
     "execution_count": 437,
     "metadata": {},
     "output_type": "execute_result"
    }
   ],
   "source": [
    "len(df), df['date'].nunique()"
   ]
  },
  {
   "cell_type": "code",
   "execution_count": 438,
   "metadata": {
    "scrolled": true
   },
   "outputs": [
    {
     "data": {
      "text/html": [
       "<div>\n",
       "<style scoped>\n",
       "    .dataframe tbody tr th:only-of-type {\n",
       "        vertical-align: middle;\n",
       "    }\n",
       "\n",
       "    .dataframe tbody tr th {\n",
       "        vertical-align: top;\n",
       "    }\n",
       "\n",
       "    .dataframe thead th {\n",
       "        text-align: right;\n",
       "    }\n",
       "</style>\n",
       "<table border=\"1\" class=\"dataframe\">\n",
       "  <thead>\n",
       "    <tr style=\"text-align: right;\">\n",
       "      <th></th>\n",
       "      <th>site</th>\n",
       "      <th>date</th>\n",
       "      <th>까마귀</th>\n",
       "      <th>너구리</th>\n",
       "      <th>다람쥐</th>\n",
       "      <th>동고비</th>\n",
       "      <th>딱새</th>\n",
       "      <th>설치류</th>\n",
       "      <th>호랑지빠귀</th>\n",
       "      <th>흰배지빠귀</th>\n",
       "      <th>조류</th>\n",
       "      <th>포유류</th>\n",
       "    </tr>\n",
       "  </thead>\n",
       "  <tbody>\n",
       "    <tr>\n",
       "      <th>10</th>\n",
       "      <td>K4</td>\n",
       "      <td>2020-09-03 23:48:19</td>\n",
       "      <td>0</td>\n",
       "      <td>1</td>\n",
       "      <td>0</td>\n",
       "      <td>0</td>\n",
       "      <td>0</td>\n",
       "      <td>0</td>\n",
       "      <td>0</td>\n",
       "      <td>0</td>\n",
       "      <td>0</td>\n",
       "      <td>1</td>\n",
       "    </tr>\n",
       "    <tr>\n",
       "      <th>11</th>\n",
       "      <td>K4</td>\n",
       "      <td>2020-09-03 23:51:07</td>\n",
       "      <td>0</td>\n",
       "      <td>1</td>\n",
       "      <td>0</td>\n",
       "      <td>0</td>\n",
       "      <td>0</td>\n",
       "      <td>0</td>\n",
       "      <td>0</td>\n",
       "      <td>0</td>\n",
       "      <td>0</td>\n",
       "      <td>1</td>\n",
       "    </tr>\n",
       "    <tr>\n",
       "      <th>12</th>\n",
       "      <td>K4</td>\n",
       "      <td>2020-09-05 01:26:39</td>\n",
       "      <td>0</td>\n",
       "      <td>1</td>\n",
       "      <td>0</td>\n",
       "      <td>0</td>\n",
       "      <td>0</td>\n",
       "      <td>0</td>\n",
       "      <td>0</td>\n",
       "      <td>0</td>\n",
       "      <td>0</td>\n",
       "      <td>1</td>\n",
       "    </tr>\n",
       "    <tr>\n",
       "      <th>13</th>\n",
       "      <td>K4</td>\n",
       "      <td>2020-09-05 01:29:29</td>\n",
       "      <td>0</td>\n",
       "      <td>1</td>\n",
       "      <td>0</td>\n",
       "      <td>0</td>\n",
       "      <td>0</td>\n",
       "      <td>0</td>\n",
       "      <td>0</td>\n",
       "      <td>0</td>\n",
       "      <td>0</td>\n",
       "      <td>1</td>\n",
       "    </tr>\n",
       "    <tr>\n",
       "      <th>14</th>\n",
       "      <td>K4</td>\n",
       "      <td>2020-09-05 01:32:19</td>\n",
       "      <td>0</td>\n",
       "      <td>1</td>\n",
       "      <td>0</td>\n",
       "      <td>0</td>\n",
       "      <td>0</td>\n",
       "      <td>0</td>\n",
       "      <td>0</td>\n",
       "      <td>0</td>\n",
       "      <td>0</td>\n",
       "      <td>1</td>\n",
       "    </tr>\n",
       "  </tbody>\n",
       "</table>\n",
       "</div>"
      ],
      "text/plain": [
       "   site                date  까마귀  너구리  다람쥐  동고비  딱새  설치류  호랑지빠귀  흰배지빠귀  조류  \\\n",
       "10   K4 2020-09-03 23:48:19    0    1    0    0   0    0      0      0   0   \n",
       "11   K4 2020-09-03 23:51:07    0    1    0    0   0    0      0      0   0   \n",
       "12   K4 2020-09-05 01:26:39    0    1    0    0   0    0      0      0   0   \n",
       "13   K4 2020-09-05 01:29:29    0    1    0    0   0    0      0      0   0   \n",
       "14   K4 2020-09-05 01:32:19    0    1    0    0   0    0      0      0   0   \n",
       "\n",
       "    포유류  \n",
       "10    1  \n",
       "11    1  \n",
       "12    1  \n",
       "13    1  \n",
       "14    1  "
      ]
     },
     "execution_count": 438,
     "metadata": {},
     "output_type": "execute_result"
    }
   ],
   "source": [
    "dfh = pd.get_dummies(df, prefix='', prefix_sep='')\n",
    "dfh['site'] = dfh['site'].replace(site_dict)\n",
    "dfh.head()"
   ]
  },
  {
   "cell_type": "code",
   "execution_count": 456,
   "metadata": {
    "scrolled": true
   },
   "outputs": [
    {
     "data": {
      "image/png": "[encoded data removed]",
      "text/plain": [
       "<Figure size 432x288 with 1 Axes>"
      ]
     },
     "metadata": {
      "needs_background": "light"
     },
     "output_type": "display_data"
    }
   ],
   "source": [
    "axe = dfh[['조류','포유류']].sum().sort_values().plot.barh(title='개체 수 ')"
   ]
  },
  {
   "cell_type": "code",
   "execution_count": 460,
   "metadata": {},
   "outputs": [
    {
     "data": {
      "image/png": "[encoded data removed]",
      "text/plain": [
       "<Figure size 432x288 with 1 Axes>"
      ]
     },
     "metadata": {
      "needs_background": "light"
     },
     "output_type": "display_data"
    }
   ],
   "source": [
    "axe = dfh.drop(columns=['date','site', '조류','포유류']).sum().sort_values().plot.barh(title='개체 수 ')"
   ]
  },
  {
   "cell_type": "code",
   "execution_count": 439,
   "metadata": {},
   "outputs": [
    {
     "data": {
      "text/html": [
       "<div>\n",
       "<style scoped>\n",
       "    .dataframe tbody tr th:only-of-type {\n",
       "        vertical-align: middle;\n",
       "    }\n",
       "\n",
       "    .dataframe tbody tr th {\n",
       "        vertical-align: top;\n",
       "    }\n",
       "\n",
       "    .dataframe thead th {\n",
       "        text-align: right;\n",
       "    }\n",
       "</style>\n",
       "<table border=\"1\" class=\"dataframe\">\n",
       "  <thead>\n",
       "    <tr style=\"text-align: right;\">\n",
       "      <th></th>\n",
       "      <th>까마귀</th>\n",
       "      <th>너구리</th>\n",
       "      <th>다람쥐</th>\n",
       "      <th>동고비</th>\n",
       "      <th>딱새</th>\n",
       "      <th>설치류</th>\n",
       "      <th>호랑지빠귀</th>\n",
       "      <th>흰배지빠귀</th>\n",
       "      <th>조류</th>\n",
       "      <th>포유류</th>\n",
       "    </tr>\n",
       "    <tr>\n",
       "      <th>site</th>\n",
       "      <th></th>\n",
       "      <th></th>\n",
       "      <th></th>\n",
       "      <th></th>\n",
       "      <th></th>\n",
       "      <th></th>\n",
       "      <th></th>\n",
       "      <th></th>\n",
       "      <th></th>\n",
       "      <th></th>\n",
       "    </tr>\n",
       "  </thead>\n",
       "  <tbody>\n",
       "    <tr>\n",
       "      <th>H2</th>\n",
       "      <td>252</td>\n",
       "      <td>0</td>\n",
       "      <td>1</td>\n",
       "      <td>4</td>\n",
       "      <td>134</td>\n",
       "      <td>0</td>\n",
       "      <td>0</td>\n",
       "      <td>1</td>\n",
       "      <td>391</td>\n",
       "      <td>1</td>\n",
       "    </tr>\n",
       "    <tr>\n",
       "      <th>H3</th>\n",
       "      <td>2261</td>\n",
       "      <td>51</td>\n",
       "      <td>0</td>\n",
       "      <td>4</td>\n",
       "      <td>60</td>\n",
       "      <td>230</td>\n",
       "      <td>0</td>\n",
       "      <td>120</td>\n",
       "      <td>2445</td>\n",
       "      <td>281</td>\n",
       "    </tr>\n",
       "    <tr>\n",
       "      <th>K2</th>\n",
       "      <td>3862</td>\n",
       "      <td>123</td>\n",
       "      <td>0</td>\n",
       "      <td>0</td>\n",
       "      <td>428</td>\n",
       "      <td>112</td>\n",
       "      <td>18</td>\n",
       "      <td>1</td>\n",
       "      <td>4309</td>\n",
       "      <td>235</td>\n",
       "    </tr>\n",
       "    <tr>\n",
       "      <th>K3</th>\n",
       "      <td>146</td>\n",
       "      <td>671</td>\n",
       "      <td>0</td>\n",
       "      <td>0</td>\n",
       "      <td>0</td>\n",
       "      <td>0</td>\n",
       "      <td>0</td>\n",
       "      <td>0</td>\n",
       "      <td>146</td>\n",
       "      <td>671</td>\n",
       "    </tr>\n",
       "    <tr>\n",
       "      <th>K4</th>\n",
       "      <td>178</td>\n",
       "      <td>17</td>\n",
       "      <td>2</td>\n",
       "      <td>0</td>\n",
       "      <td>1</td>\n",
       "      <td>34</td>\n",
       "      <td>4</td>\n",
       "      <td>1787</td>\n",
       "      <td>1970</td>\n",
       "      <td>53</td>\n",
       "    </tr>\n",
       "  </tbody>\n",
       "</table>\n",
       "</div>"
      ],
      "text/plain": [
       "       까마귀  너구리  다람쥐  동고비   딱새  설치류  호랑지빠귀  흰배지빠귀    조류  포유류\n",
       "site                                                        \n",
       "H2     252    0    1    4  134    0      0      1   391    1\n",
       "H3    2261   51    0    4   60  230      0    120  2445  281\n",
       "K2    3862  123    0    0  428  112     18      1  4309  235\n",
       "K3     146  671    0    0    0    0      0      0   146  671\n",
       "K4     178   17    2    0    1   34      4   1787  1970   53"
      ]
     },
     "execution_count": 439,
     "metadata": {},
     "output_type": "execute_result"
    }
   ],
   "source": [
    "dfh.groupby('site').sum().astype(int)"
   ]
  },
  {
   "cell_type": "code",
   "execution_count": 462,
   "metadata": {
    "scrolled": true
   },
   "outputs": [
    {
     "data": {
      "text/html": [
       "<div>\n",
       "<style scoped>\n",
       "    .dataframe tbody tr th:only-of-type {\n",
       "        vertical-align: middle;\n",
       "    }\n",
       "\n",
       "    .dataframe tbody tr th {\n",
       "        vertical-align: top;\n",
       "    }\n",
       "\n",
       "    .dataframe thead th {\n",
       "        text-align: right;\n",
       "    }\n",
       "</style>\n",
       "<table border=\"1\" class=\"dataframe\">\n",
       "  <thead>\n",
       "    <tr style=\"text-align: right;\">\n",
       "      <th></th>\n",
       "      <th>까마귀</th>\n",
       "      <th>너구리</th>\n",
       "      <th>다람쥐</th>\n",
       "      <th>동고비</th>\n",
       "      <th>딱새</th>\n",
       "      <th>설치류</th>\n",
       "      <th>호랑지빠귀</th>\n",
       "      <th>흰배지빠귀</th>\n",
       "      <th>조류</th>\n",
       "      <th>포유류</th>\n",
       "    </tr>\n",
       "    <tr>\n",
       "      <th>date</th>\n",
       "      <th></th>\n",
       "      <th></th>\n",
       "      <th></th>\n",
       "      <th></th>\n",
       "      <th></th>\n",
       "      <th></th>\n",
       "      <th></th>\n",
       "      <th></th>\n",
       "      <th></th>\n",
       "      <th></th>\n",
       "    </tr>\n",
       "  </thead>\n",
       "  <tbody>\n",
       "    <tr>\n",
       "      <th>2020-08-30</th>\n",
       "      <td>4</td>\n",
       "      <td>0</td>\n",
       "      <td>0</td>\n",
       "      <td>0</td>\n",
       "      <td>0</td>\n",
       "      <td>0</td>\n",
       "      <td>0</td>\n",
       "      <td>0</td>\n",
       "      <td>4</td>\n",
       "      <td>0</td>\n",
       "    </tr>\n",
       "    <tr>\n",
       "      <th>2020-09-06</th>\n",
       "      <td>18</td>\n",
       "      <td>17</td>\n",
       "      <td>0</td>\n",
       "      <td>4</td>\n",
       "      <td>60</td>\n",
       "      <td>13</td>\n",
       "      <td>0</td>\n",
       "      <td>4</td>\n",
       "      <td>86</td>\n",
       "      <td>30</td>\n",
       "    </tr>\n",
       "    <tr>\n",
       "      <th>2020-09-13</th>\n",
       "      <td>587</td>\n",
       "      <td>29</td>\n",
       "      <td>0</td>\n",
       "      <td>4</td>\n",
       "      <td>134</td>\n",
       "      <td>9</td>\n",
       "      <td>0</td>\n",
       "      <td>117</td>\n",
       "      <td>842</td>\n",
       "      <td>38</td>\n",
       "    </tr>\n",
       "    <tr>\n",
       "      <th>2020-09-20</th>\n",
       "      <td>90</td>\n",
       "      <td>26</td>\n",
       "      <td>1</td>\n",
       "      <td>0</td>\n",
       "      <td>0</td>\n",
       "      <td>0</td>\n",
       "      <td>0</td>\n",
       "      <td>0</td>\n",
       "      <td>90</td>\n",
       "      <td>27</td>\n",
       "    </tr>\n",
       "    <tr>\n",
       "      <th>2020-09-27</th>\n",
       "      <td>92</td>\n",
       "      <td>679</td>\n",
       "      <td>0</td>\n",
       "      <td>0</td>\n",
       "      <td>353</td>\n",
       "      <td>91</td>\n",
       "      <td>17</td>\n",
       "      <td>1</td>\n",
       "      <td>463</td>\n",
       "      <td>770</td>\n",
       "    </tr>\n",
       "    <tr>\n",
       "      <th>2020-10-04</th>\n",
       "      <td>90</td>\n",
       "      <td>64</td>\n",
       "      <td>0</td>\n",
       "      <td>0</td>\n",
       "      <td>75</td>\n",
       "      <td>21</td>\n",
       "      <td>1</td>\n",
       "      <td>0</td>\n",
       "      <td>166</td>\n",
       "      <td>85</td>\n",
       "    </tr>\n",
       "    <tr>\n",
       "      <th>2020-10-11</th>\n",
       "      <td>2</td>\n",
       "      <td>0</td>\n",
       "      <td>0</td>\n",
       "      <td>0</td>\n",
       "      <td>0</td>\n",
       "      <td>0</td>\n",
       "      <td>0</td>\n",
       "      <td>0</td>\n",
       "      <td>2</td>\n",
       "      <td>0</td>\n",
       "    </tr>\n",
       "    <tr>\n",
       "      <th>2020-10-18</th>\n",
       "      <td>1755</td>\n",
       "      <td>40</td>\n",
       "      <td>0</td>\n",
       "      <td>0</td>\n",
       "      <td>0</td>\n",
       "      <td>74</td>\n",
       "      <td>0</td>\n",
       "      <td>185</td>\n",
       "      <td>1940</td>\n",
       "      <td>114</td>\n",
       "    </tr>\n",
       "    <tr>\n",
       "      <th>2020-10-25</th>\n",
       "      <td>124</td>\n",
       "      <td>0</td>\n",
       "      <td>2</td>\n",
       "      <td>0</td>\n",
       "      <td>0</td>\n",
       "      <td>15</td>\n",
       "      <td>1</td>\n",
       "      <td>671</td>\n",
       "      <td>796</td>\n",
       "      <td>17</td>\n",
       "    </tr>\n",
       "    <tr>\n",
       "      <th>2020-11-01</th>\n",
       "      <td>2323</td>\n",
       "      <td>6</td>\n",
       "      <td>0</td>\n",
       "      <td>0</td>\n",
       "      <td>1</td>\n",
       "      <td>153</td>\n",
       "      <td>3</td>\n",
       "      <td>931</td>\n",
       "      <td>3258</td>\n",
       "      <td>159</td>\n",
       "    </tr>\n",
       "    <tr>\n",
       "      <th>2020-11-08</th>\n",
       "      <td>1614</td>\n",
       "      <td>1</td>\n",
       "      <td>0</td>\n",
       "      <td>0</td>\n",
       "      <td>0</td>\n",
       "      <td>0</td>\n",
       "      <td>0</td>\n",
       "      <td>0</td>\n",
       "      <td>1614</td>\n",
       "      <td>1</td>\n",
       "    </tr>\n",
       "  </tbody>\n",
       "</table>\n",
       "</div>"
      ],
      "text/plain": [
       "             까마귀  너구리  다람쥐  동고비   딱새  설치류  호랑지빠귀  흰배지빠귀    조류  포유류\n",
       "date                                                              \n",
       "2020-08-30     4    0    0    0    0    0      0      0     4    0\n",
       "2020-09-06    18   17    0    4   60   13      0      4    86   30\n",
       "2020-09-13   587   29    0    4  134    9      0    117   842   38\n",
       "2020-09-20    90   26    1    0    0    0      0      0    90   27\n",
       "2020-09-27    92  679    0    0  353   91     17      1   463  770\n",
       "2020-10-04    90   64    0    0   75   21      1      0   166   85\n",
       "2020-10-11     2    0    0    0    0    0      0      0     2    0\n",
       "2020-10-18  1755   40    0    0    0   74      0    185  1940  114\n",
       "2020-10-25   124    0    2    0    0   15      1    671   796   17\n",
       "2020-11-01  2323    6    0    0    1  153      3    931  3258  159\n",
       "2020-11-08  1614    1    0    0    0    0      0      0  1614    1"
      ]
     },
     "execution_count": 462,
     "metadata": {},
     "output_type": "execute_result"
    }
   ],
   "source": [
    "dfh.groupby('date').sum().resample('W').sum().fillna(0).astype(int)"
   ]
  },
  {
   "cell_type": "code",
   "execution_count": 464,
   "metadata": {},
   "outputs": [
    {
     "data": {
      "text/html": [
       "<div>\n",
       "<style scoped>\n",
       "    .dataframe tbody tr th:only-of-type {\n",
       "        vertical-align: middle;\n",
       "    }\n",
       "\n",
       "    .dataframe tbody tr th {\n",
       "        vertical-align: top;\n",
       "    }\n",
       "\n",
       "    .dataframe thead th {\n",
       "        text-align: right;\n",
       "    }\n",
       "</style>\n",
       "<table border=\"1\" class=\"dataframe\">\n",
       "  <thead>\n",
       "    <tr style=\"text-align: right;\">\n",
       "      <th></th>\n",
       "      <th>조류</th>\n",
       "      <th>포유류</th>\n",
       "    </tr>\n",
       "  </thead>\n",
       "  <tbody>\n",
       "    <tr>\n",
       "      <th>08-30</th>\n",
       "      <td>1.000000</td>\n",
       "      <td>0.000000</td>\n",
       "    </tr>\n",
       "    <tr>\n",
       "      <th>08-31</th>\n",
       "      <td>1.000000</td>\n",
       "      <td>0.000000</td>\n",
       "    </tr>\n",
       "    <tr>\n",
       "      <th>09-01</th>\n",
       "      <td>0.000000</td>\n",
       "      <td>0.000000</td>\n",
       "    </tr>\n",
       "    <tr>\n",
       "      <th>09-02</th>\n",
       "      <td>0.000000</td>\n",
       "      <td>0.000000</td>\n",
       "    </tr>\n",
       "    <tr>\n",
       "      <th>09-03</th>\n",
       "      <td>0.888889</td>\n",
       "      <td>0.111111</td>\n",
       "    </tr>\n",
       "    <tr>\n",
       "      <th>...</th>\n",
       "      <td>...</td>\n",
       "      <td>...</td>\n",
       "    </tr>\n",
       "    <tr>\n",
       "      <th>10-29</th>\n",
       "      <td>0.826087</td>\n",
       "      <td>0.173913</td>\n",
       "    </tr>\n",
       "    <tr>\n",
       "      <th>10-30</th>\n",
       "      <td>0.852423</td>\n",
       "      <td>0.147577</td>\n",
       "    </tr>\n",
       "    <tr>\n",
       "      <th>10-31</th>\n",
       "      <td>0.965909</td>\n",
       "      <td>0.034091</td>\n",
       "    </tr>\n",
       "    <tr>\n",
       "      <th>11-01</th>\n",
       "      <td>1.000000</td>\n",
       "      <td>0.000000</td>\n",
       "    </tr>\n",
       "    <tr>\n",
       "      <th>11-02</th>\n",
       "      <td>0.999554</td>\n",
       "      <td>0.000446</td>\n",
       "    </tr>\n",
       "  </tbody>\n",
       "</table>\n",
       "<p>65 rows × 2 columns</p>\n",
       "</div>"
      ],
      "text/plain": [
       "             조류       포유류\n",
       "08-30  1.000000  0.000000\n",
       "08-31  1.000000  0.000000\n",
       "09-01  0.000000  0.000000\n",
       "09-02  0.000000  0.000000\n",
       "09-03  0.888889  0.111111\n",
       "...         ...       ...\n",
       "10-29  0.826087  0.173913\n",
       "10-30  0.852423  0.147577\n",
       "10-31  0.965909  0.034091\n",
       "11-01  1.000000  0.000000\n",
       "11-02  0.999554  0.000446\n",
       "\n",
       "[65 rows x 2 columns]"
      ]
     },
     "execution_count": 464,
     "metadata": {},
     "output_type": "execute_result"
    }
   ],
   "source": [
    "freq_d = dfh[['date','조류','포유류']].groupby('date').mean().resample('D').mean().fillna(0)\n",
    "freq_d.index = [str(v)[5:10] for v in freq_d.index.values]\n",
    "freq_d"
   ]
  },
  {
   "cell_type": "code",
   "execution_count": 469,
   "metadata": {},
   "outputs": [
    {
     "data": {
      "image/png": "[encoded data removed]",
      "text/plain": [
       "<Figure size 1080x144 with 1 Axes>"
      ]
     },
     "metadata": {
      "needs_background": "light"
     },
     "output_type": "display_data"
    }
   ],
   "source": [
    "ax = freq_d.plot.bar(figsize=(15, 2), title='일간 동물 출현 비율')"
   ]
  },
  {
   "cell_type": "code",
   "execution_count": 441,
   "metadata": {},
   "outputs": [
    {
     "data": {
      "text/html": [
       "<div>\n",
       "<style scoped>\n",
       "    .dataframe tbody tr th:only-of-type {\n",
       "        vertical-align: middle;\n",
       "    }\n",
       "\n",
       "    .dataframe tbody tr th {\n",
       "        vertical-align: top;\n",
       "    }\n",
       "\n",
       "    .dataframe thead th {\n",
       "        text-align: right;\n",
       "    }\n",
       "</style>\n",
       "<table border=\"1\" class=\"dataframe\">\n",
       "  <thead>\n",
       "    <tr style=\"text-align: right;\">\n",
       "      <th></th>\n",
       "      <th>조류</th>\n",
       "      <th>포유류</th>\n",
       "    </tr>\n",
       "  </thead>\n",
       "  <tbody>\n",
       "    <tr>\n",
       "      <th>08-30</th>\n",
       "      <td>1.000000</td>\n",
       "      <td>0.000000</td>\n",
       "    </tr>\n",
       "    <tr>\n",
       "      <th>09-06</th>\n",
       "      <td>0.596154</td>\n",
       "      <td>0.403846</td>\n",
       "    </tr>\n",
       "    <tr>\n",
       "      <th>09-13</th>\n",
       "      <td>0.953819</td>\n",
       "      <td>0.046181</td>\n",
       "    </tr>\n",
       "    <tr>\n",
       "      <th>09-20</th>\n",
       "      <td>0.792135</td>\n",
       "      <td>0.207865</td>\n",
       "    </tr>\n",
       "    <tr>\n",
       "      <th>09-27</th>\n",
       "      <td>0.389526</td>\n",
       "      <td>0.610474</td>\n",
       "    </tr>\n",
       "    <tr>\n",
       "      <th>10-04</th>\n",
       "      <td>0.682028</td>\n",
       "      <td>0.317972</td>\n",
       "    </tr>\n",
       "    <tr>\n",
       "      <th>10-11</th>\n",
       "      <td>1.000000</td>\n",
       "      <td>0.000000</td>\n",
       "    </tr>\n",
       "    <tr>\n",
       "      <th>10-18</th>\n",
       "      <td>0.888183</td>\n",
       "      <td>0.111817</td>\n",
       "    </tr>\n",
       "    <tr>\n",
       "      <th>10-25</th>\n",
       "      <td>0.976124</td>\n",
       "      <td>0.023876</td>\n",
       "    </tr>\n",
       "    <tr>\n",
       "      <th>11-01</th>\n",
       "      <td>0.909197</td>\n",
       "      <td>0.090803</td>\n",
       "    </tr>\n",
       "    <tr>\n",
       "      <th>11-08</th>\n",
       "      <td>0.999554</td>\n",
       "      <td>0.000446</td>\n",
       "    </tr>\n",
       "  </tbody>\n",
       "</table>\n",
       "</div>"
      ],
      "text/plain": [
       "             조류       포유류\n",
       "08-30  1.000000  0.000000\n",
       "09-06  0.596154  0.403846\n",
       "09-13  0.953819  0.046181\n",
       "09-20  0.792135  0.207865\n",
       "09-27  0.389526  0.610474\n",
       "10-04  0.682028  0.317972\n",
       "10-11  1.000000  0.000000\n",
       "10-18  0.888183  0.111817\n",
       "10-25  0.976124  0.023876\n",
       "11-01  0.909197  0.090803\n",
       "11-08  0.999554  0.000446"
      ]
     },
     "execution_count": 441,
     "metadata": {},
     "output_type": "execute_result"
    }
   ],
   "source": [
    "freq_w = dfh[['date','조류','포유류']].groupby('date').mean().resample('W').mean()\n",
    "freq_w.index = [str(v)[5:10] for v in freq_w.index.values]\n",
    "freq_w"
   ]
  },
  {
   "cell_type": "code",
   "execution_count": 465,
   "metadata": {
    "scrolled": true
   },
   "outputs": [
    {
     "data": {
      "image/png": "[encoded data removed]",
      "text/plain": [
       "<Figure size 576x216 with 1 Axes>"
      ]
     },
     "metadata": {
      "needs_background": "light"
     },
     "output_type": "display_data"
    }
   ],
   "source": [
    "ax = freq_w.plot.bar(figsize=(8,3), title='주간 동물 출현 비율')"
   ]
  },
  {
   "cell_type": "markdown",
   "metadata": {},
   "source": [
    "site 별 방문 동물 수"
   ]
  },
  {
   "cell_type": "code",
   "execution_count": 443,
   "metadata": {
    "scrolled": true
   },
   "outputs": [
    {
     "data": {
      "text/html": [
       "<div>\n",
       "<style scoped>\n",
       "    .dataframe tbody tr th:only-of-type {\n",
       "        vertical-align: middle;\n",
       "    }\n",
       "\n",
       "    .dataframe tbody tr th {\n",
       "        vertical-align: top;\n",
       "    }\n",
       "\n",
       "    .dataframe thead th {\n",
       "        text-align: right;\n",
       "    }\n",
       "</style>\n",
       "<table border=\"1\" class=\"dataframe\">\n",
       "  <thead>\n",
       "    <tr style=\"text-align: right;\">\n",
       "      <th></th>\n",
       "      <th>까마귀</th>\n",
       "      <th>너구리</th>\n",
       "      <th>다람쥐</th>\n",
       "      <th>동고비</th>\n",
       "      <th>딱새</th>\n",
       "      <th>설치류</th>\n",
       "      <th>호랑지빠귀</th>\n",
       "      <th>흰배지빠귀</th>\n",
       "      <th>조류</th>\n",
       "      <th>포유류</th>\n",
       "    </tr>\n",
       "    <tr>\n",
       "      <th>site</th>\n",
       "      <th></th>\n",
       "      <th></th>\n",
       "      <th></th>\n",
       "      <th></th>\n",
       "      <th></th>\n",
       "      <th></th>\n",
       "      <th></th>\n",
       "      <th></th>\n",
       "      <th></th>\n",
       "      <th></th>\n",
       "    </tr>\n",
       "  </thead>\n",
       "  <tbody>\n",
       "    <tr>\n",
       "      <th>H2</th>\n",
       "      <td>0.642857</td>\n",
       "      <td>0.000000</td>\n",
       "      <td>0.002551</td>\n",
       "      <td>0.010204</td>\n",
       "      <td>0.341837</td>\n",
       "      <td>0.000000</td>\n",
       "      <td>0.000000</td>\n",
       "      <td>0.002551</td>\n",
       "      <td>0.997449</td>\n",
       "      <td>0.002551</td>\n",
       "    </tr>\n",
       "    <tr>\n",
       "      <th>H3</th>\n",
       "      <td>0.829420</td>\n",
       "      <td>0.018709</td>\n",
       "      <td>0.000000</td>\n",
       "      <td>0.001467</td>\n",
       "      <td>0.022010</td>\n",
       "      <td>0.084373</td>\n",
       "      <td>0.000000</td>\n",
       "      <td>0.044021</td>\n",
       "      <td>0.896919</td>\n",
       "      <td>0.103081</td>\n",
       "    </tr>\n",
       "    <tr>\n",
       "      <th>K2</th>\n",
       "      <td>0.849912</td>\n",
       "      <td>0.027069</td>\n",
       "      <td>0.000000</td>\n",
       "      <td>0.000000</td>\n",
       "      <td>0.094190</td>\n",
       "      <td>0.024648</td>\n",
       "      <td>0.003961</td>\n",
       "      <td>0.000220</td>\n",
       "      <td>0.948283</td>\n",
       "      <td>0.051717</td>\n",
       "    </tr>\n",
       "    <tr>\n",
       "      <th>K3</th>\n",
       "      <td>0.178703</td>\n",
       "      <td>0.821297</td>\n",
       "      <td>0.000000</td>\n",
       "      <td>0.000000</td>\n",
       "      <td>0.000000</td>\n",
       "      <td>0.000000</td>\n",
       "      <td>0.000000</td>\n",
       "      <td>0.000000</td>\n",
       "      <td>0.178703</td>\n",
       "      <td>0.821297</td>\n",
       "    </tr>\n",
       "    <tr>\n",
       "      <th>K4</th>\n",
       "      <td>0.087988</td>\n",
       "      <td>0.008403</td>\n",
       "      <td>0.000989</td>\n",
       "      <td>0.000000</td>\n",
       "      <td>0.000494</td>\n",
       "      <td>0.016807</td>\n",
       "      <td>0.001977</td>\n",
       "      <td>0.883342</td>\n",
       "      <td>0.973801</td>\n",
       "      <td>0.026199</td>\n",
       "    </tr>\n",
       "  </tbody>\n",
       "</table>\n",
       "</div>"
      ],
      "text/plain": [
       "           까마귀       너구리       다람쥐       동고비        딱새       설치류     호랑지빠귀  \\\n",
       "site                                                                         \n",
       "H2    0.642857  0.000000  0.002551  0.010204  0.341837  0.000000  0.000000   \n",
       "H3    0.829420  0.018709  0.000000  0.001467  0.022010  0.084373  0.000000   \n",
       "K2    0.849912  0.027069  0.000000  0.000000  0.094190  0.024648  0.003961   \n",
       "K3    0.178703  0.821297  0.000000  0.000000  0.000000  0.000000  0.000000   \n",
       "K4    0.087988  0.008403  0.000989  0.000000  0.000494  0.016807  0.001977   \n",
       "\n",
       "         흰배지빠귀        조류       포유류  \n",
       "site                                \n",
       "H2    0.002551  0.997449  0.002551  \n",
       "H3    0.044021  0.896919  0.103081  \n",
       "K2    0.000220  0.948283  0.051717  \n",
       "K3    0.000000  0.178703  0.821297  \n",
       "K4    0.883342  0.973801  0.026199  "
      ]
     },
     "execution_count": 443,
     "metadata": {},
     "output_type": "execute_result"
    }
   ],
   "source": [
    "dfh.groupby('site').mean()"
   ]
  },
  {
   "cell_type": "code",
   "execution_count": 444,
   "metadata": {},
   "outputs": [
    {
     "data": {
      "image/png": "[encoded data removed]",
      "text/plain": [
       "<Figure size 432x288 with 1 Axes>"
      ]
     },
     "metadata": {
      "needs_background": "light"
     },
     "output_type": "display_data"
    }
   ],
   "source": [
    "axe = dfh.groupby('site').mean()[['조류','포유류']].plot.bar(title='사이트별 조류/포유류 비교')"
   ]
  },
  {
   "cell_type": "code",
   "execution_count": 445,
   "metadata": {},
   "outputs": [
    {
     "data": {
      "image/png": "[encoded data removed]",
      "text/plain": [
       "<Figure size 432x288 with 1 Axes>"
      ]
     },
     "metadata": {
      "needs_background": "light"
     },
     "output_type": "display_data"
    }
   ],
   "source": [
    "axe = dfh.groupby('site').mean()[['조류','포유류']].plot.barh(title='사이트별 조류/포유류 비교')"
   ]
  },
  {
   "cell_type": "code",
   "execution_count": 294,
   "metadata": {},
   "outputs": [],
   "source": [
    "h6 = dfh.groupby('date').mean().resample('6h').mean().fillna(0)\n",
    "n0 = h6.iloc[::4]\n",
    "n1 = h6.iloc[1::4]\n",
    "d0 = h6.iloc[2::4]\n",
    "d1 = h6.iloc[3::4]\n",
    "d = d0 + d1.values\n",
    "n = n0 + n1.values"
   ]
  },
  {
   "cell_type": "code",
   "execution_count": 295,
   "metadata": {
    "scrolled": true
   },
   "outputs": [
    {
     "data": {
      "text/plain": [
       "까마귀       3.391038\n",
       "너구리      24.687928\n",
       "다람쥐       0.000000\n",
       "동고비       0.000000\n",
       "딱새        1.514228\n",
       "설치류      18.406806\n",
       "호랑지빠귀     0.000000\n",
       "흰배지빠귀     0.000000\n",
       "조류        4.905266\n",
       "포유류      43.094734\n",
       "dtype: float64"
      ]
     },
     "execution_count": 295,
     "metadata": {},
     "output_type": "execute_result"
    }
   ],
   "source": [
    "nsum = n.sum()\n",
    "dsum = d.sum()\n",
    "nsum"
   ]
  },
  {
   "cell_type": "code",
   "execution_count": 277,
   "metadata": {},
   "outputs": [],
   "source": [
    "nsum.index = [ind+'_낮' for ind in nsum.index]\n",
    "dsum.index = [ind+'_밤' for ind in dsum.index]"
   ]
  },
  {
   "cell_type": "code",
   "execution_count": 290,
   "metadata": {},
   "outputs": [],
   "source": [
    "ndsum = pd.concat((nsum, dsum))"
   ]
  },
  {
   "cell_type": "code",
   "execution_count": 306,
   "metadata": {},
   "outputs": [
    {
     "data": {
      "text/plain": [
       "까마귀_낮       3.391038\n",
       "까마귀_밤      54.467958\n",
       "너구리_낮      24.687928\n",
       "너구리_밤       3.063515\n",
       "다람쥐_낮       0.000000\n",
       "다람쥐_밤       0.096814\n",
       "동고비_낮       0.000000\n",
       "동고비_밤       0.111538\n",
       "딱새_낮        1.514228\n",
       "딱새_밤       10.942151\n",
       "설치류_낮      18.406806\n",
       "설치류_밤       0.000000\n",
       "조류_낮        4.905266\n",
       "조류_밤       88.839672\n",
       "포유류_낮      43.094734\n",
       "포유류_밤       3.160328\n",
       "호랑지빠귀_낮     0.000000\n",
       "호랑지빠귀_밤     0.109304\n",
       "흰배지빠귀_낮     0.000000\n",
       "흰배지빠귀_밤    23.208721\n",
       "dtype: float64"
      ]
     },
     "execution_count": 306,
     "metadata": {},
     "output_type": "execute_result"
    }
   ],
   "source": [
    "ndsum.sort_index()"
   ]
  },
  {
   "cell_type": "code",
   "execution_count": 316,
   "metadata": {},
   "outputs": [
    {
     "data": {
      "text/plain": [
       "<AxesSubplot:title={'center':'낮(Red)과 밤(Black) 비교 '}>"
      ]
     },
     "execution_count": 316,
     "metadata": {},
     "output_type": "execute_result"
    },
    {
     "data": {
      "image/png": "[encoded data removed]",
      "text/plain": [
       "<Figure size 432x288 with 1 Axes>"
      ]
     },
     "metadata": {
      "needs_background": "light"
     },
     "output_type": "display_data"
    }
   ],
   "source": [
    "d.sum().plot.barh(alpha=0.99, color=\"red\", title='낮(Red)과 밤(Black) 비교 ')\n",
    "nsum.plot.barh(alpha=0.5, color=\"black\")"
   ]
  },
  {
   "cell_type": "code",
   "execution_count": null,
   "metadata": {},
   "outputs": [],
   "source": []
  },
  {
   "cell_type": "code",
   "execution_count": 317,
   "metadata": {
    "scrolled": false
   },
   "outputs": [
    {
     "data": {
      "image/png": "[encoded data removed]",
      "text/plain": [
       "<Figure size 720x288 with 1 Axes>"
      ]
     },
     "metadata": {
      "needs_background": "light"
     },
     "output_type": "display_data"
    }
   ],
   "source": [
    "axe = dfh.groupby('date').sum().resample('D').mean().fillna(0)[['조류','포유류']].plot(figsize=(10, 4), title='일자b별 출현 빈도')"
   ]
  },
  {
   "cell_type": "code",
   "execution_count": 358,
   "metadata": {},
   "outputs": [
    {
     "data": {
      "image/png": "[encoded data removed]",
      "text/plain": [
       "<Figure size 648x72 with 1 Axes>"
      ]
     },
     "metadata": {
      "needs_background": "light"
     },
     "output_type": "display_data"
    },
    {
     "data": {
      "image/png": "[encoded data removed]",
      "text/plain": [
       "<Figure size 648x72 with 1 Axes>"
      ]
     },
     "metadata": {
      "needs_background": "light"
     },
     "output_type": "display_data"
    },
    {
     "data": {
      "image/png": "[encoded data removed]",
      "text/plain": [
       "<Figure size 648x72 with 1 Axes>"
      ]
     },
     "metadata": {
      "needs_background": "light"
     },
     "output_type": "display_data"
    },
    {
     "data": {
      "image/png": "[encoded data removed]",
      "text/plain": [
       "<Figure size 648x72 with 1 Axes>"
      ]
     },
     "metadata": {
      "needs_background": "light"
     },
     "output_type": "display_data"
    },
    {
     "data": {
      "image/png": "[encoded data removed]",
      "text/plain": [
       "<Figure size 648x72 with 1 Axes>"
      ]
     },
     "metadata": {
      "needs_background": "light"
     },
     "output_type": "display_data"
    }
   ],
   "source": [
    "for site in dfh['site'].unique():\n",
    "    data = dfh[dfh['site']==site].groupby('date').sum().resample('D').mean().fillna(0)[['조류','포유류']]\n",
    "    ax = data.plot(figsize=(9, 1), legend=False, title=site)        "
   ]
  },
  {
   "cell_type": "code",
   "execution_count": null,
   "metadata": {},
   "outputs": [],
   "source": []
  },
  {
   "cell_type": "code",
   "execution_count": 193,
   "metadata": {},
   "outputs": [
    {
     "data": {
      "text/html": [
       "<div>\n",
       "<style scoped>\n",
       "    .dataframe tbody tr th:only-of-type {\n",
       "        vertical-align: middle;\n",
       "    }\n",
       "\n",
       "    .dataframe tbody tr th {\n",
       "        vertical-align: top;\n",
       "    }\n",
       "\n",
       "    .dataframe thead th {\n",
       "        text-align: right;\n",
       "    }\n",
       "</style>\n",
       "<table border=\"1\" class=\"dataframe\">\n",
       "  <thead>\n",
       "    <tr style=\"text-align: right;\">\n",
       "      <th></th>\n",
       "      <th>조류</th>\n",
       "      <th>포유류</th>\n",
       "    </tr>\n",
       "    <tr>\n",
       "      <th>date</th>\n",
       "      <th></th>\n",
       "      <th></th>\n",
       "    </tr>\n",
       "  </thead>\n",
       "  <tbody>\n",
       "    <tr>\n",
       "      <th>2020-08-30 18:22:10</th>\n",
       "      <td>1</td>\n",
       "      <td>0</td>\n",
       "    </tr>\n",
       "    <tr>\n",
       "      <th>2020-08-30 18:25:19</th>\n",
       "      <td>1</td>\n",
       "      <td>0</td>\n",
       "    </tr>\n",
       "    <tr>\n",
       "      <th>2020-08-30 18:27:51</th>\n",
       "      <td>1</td>\n",
       "      <td>0</td>\n",
       "    </tr>\n",
       "    <tr>\n",
       "      <th>2020-08-30 18:30:41</th>\n",
       "      <td>1</td>\n",
       "      <td>0</td>\n",
       "    </tr>\n",
       "    <tr>\n",
       "      <th>2020-08-31 13:30:10</th>\n",
       "      <td>2</td>\n",
       "      <td>0</td>\n",
       "    </tr>\n",
       "    <tr>\n",
       "      <th>...</th>\n",
       "      <td>...</td>\n",
       "      <td>...</td>\n",
       "    </tr>\n",
       "    <tr>\n",
       "      <th>2020-11-01 10:38:16</th>\n",
       "      <td>1</td>\n",
       "      <td>0</td>\n",
       "    </tr>\n",
       "    <tr>\n",
       "      <th>2020-11-01 10:40:16</th>\n",
       "      <td>2</td>\n",
       "      <td>0</td>\n",
       "    </tr>\n",
       "    <tr>\n",
       "      <th>2020-11-01 10:42:14</th>\n",
       "      <td>1</td>\n",
       "      <td>0</td>\n",
       "    </tr>\n",
       "    <tr>\n",
       "      <th>2020-11-01 10:44:13</th>\n",
       "      <td>1</td>\n",
       "      <td>0</td>\n",
       "    </tr>\n",
       "    <tr>\n",
       "      <th>2020-11-02 12:57:18</th>\n",
       "      <td>1</td>\n",
       "      <td>0</td>\n",
       "    </tr>\n",
       "  </tbody>\n",
       "</table>\n",
       "<p>335 rows × 2 columns</p>\n",
       "</div>"
      ],
      "text/plain": [
       "                     조류  포유류\n",
       "date                        \n",
       "2020-08-30 18:22:10   1    0\n",
       "2020-08-30 18:25:19   1    0\n",
       "2020-08-30 18:27:51   1    0\n",
       "2020-08-30 18:30:41   1    0\n",
       "2020-08-31 13:30:10   2    0\n",
       "...                  ..  ...\n",
       "2020-11-01 10:38:16   1    0\n",
       "2020-11-01 10:40:16   2    0\n",
       "2020-11-01 10:42:14   1    0\n",
       "2020-11-01 10:44:13   1    0\n",
       "2020-11-02 12:57:18   1    0\n",
       "\n",
       "[335 rows x 2 columns]"
      ]
     },
     "execution_count": 193,
     "metadata": {},
     "output_type": "execute_result"
    }
   ],
   "source": [
    "dfh.groupby(['site', 'date'])[['조류','포유류']].sum().loc['H2']#.resample('D').mean()#.fillna(0).plot(figsize=(10, 4))"
   ]
  },
  {
   "cell_type": "code",
   "execution_count": null,
   "metadata": {},
   "outputs": [],
   "source": []
  },
  {
   "cell_type": "code",
   "execution_count": null,
   "metadata": {},
   "outputs": [],
   "source": []
  }
 ],
 "metadata": {
  "kernelspec": {
   "display_name": "Python 3",
   "language": "python",
   "name": "python3"
  },
  "language_info": {
   "codemirror_mode": {
    "name": "ipython",
    "version": 3
   },
   "file_extension": ".py",
   "mimetype": "text/x-python",
   "name": "python",
   "nbconvert_exporter": "python",
   "pygments_lexer": "ipython3",
   "version": "3.8.5"
  }
 },
 "nbformat": 4,
 "nbformat_minor": 4
}
