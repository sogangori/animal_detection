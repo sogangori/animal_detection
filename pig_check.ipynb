{
 "cells": [
  {
   "cell_type": "code",
   "execution_count": 1,
   "metadata": {},
   "outputs": [],
   "source": [
    "import os\n",
    "import re\n",
    "import zipfile\n",
    "import pandas as pd\n",
    "import numpy as np\n",
    "import matplotlib.pyplot as plt\n",
    "\n",
    "from PIL import Image\n",
    "import ast\n",
    "import json\n",
    "from glob import glob"
   ]
  },
  {
   "cell_type": "code",
   "execution_count": 2,
   "metadata": {},
   "outputs": [
    {
     "data": {
      "text/plain": [
       "True"
      ]
     },
     "execution_count": 2,
     "metadata": {},
     "output_type": "execute_result"
    }
   ],
   "source": [
    "#padded_image_shape = (1024, 1920)\n",
    "min_stride = 128\n",
    "padded_image_shape = (128*4, 128*8)\n",
    "anchor_k = 9\n",
    "num_classes = 80#\n",
    "max_data_m = 50#00\n",
    "edgecolors = np.random.rand(num_classes, 3) \n",
    "edgecolors = np.minimum(edgecolors+0.1, 1.0)\n",
    "#class_names = ['bg', 'pig', 'crow']\n",
    "class_names_kor = ['', '모름', '돼지', '멧돼지', '큰부리까마귀', '흰배지빠귀', '유리딱새', '동고비', \n",
    "               '박새', '호랑지빠귀', '검독수리', '너구리', '설치류', '다람쥐', '사람']\n",
    "class_names = ['bg','unknown', 'pig', 'boar', 'crow', 'bird_hinbejipagi', 'bird_ddaksae', \n",
    "               'bird_dongobi', 'bird_baksae', 'bird_horangjipagi', 'bird_eagle', \n",
    "               'racoon', 'rat', 'squrrel', 'human']\n",
    "\n",
    "folder_pig = '/home/mvlab/Downloads/dataset/pig/'\n",
    "os.path.isdir(folder_pig)"
   ]
  },
  {
   "cell_type": "code",
   "execution_count": 3,
   "metadata": {},
   "outputs": [
    {
     "data": {
      "text/plain": [
       "<function str.endswith>"
      ]
     },
     "execution_count": 3,
     "metadata": {},
     "output_type": "execute_result"
    }
   ],
   "source": [
    "''.endswith"
   ]
  },
  {
   "cell_type": "code",
   "execution_count": 4,
   "metadata": {},
   "outputs": [],
   "source": [
    "def add_folder_to_file_name(folder_pig, path_csv):\n",
    "    path_csv = folder_pig + path_csv\n",
    "    path_weight = \"retinanet/pig_efficient_det_BiFPN_D3\"\n",
    "    print(os.path.isdir(folder_pig), os.path.isfile(path_csv))\n",
    "    if os.path.isfile(path_csv):\n",
    "        \n",
    "        df = pd.read_csv(path_csv)\n",
    "        df['filename'] = folder_pig + df['filename']\n",
    "        print('df', df.shape, df['filename'].nunique(), df['region_attributes'].nunique()  )\n",
    "        print(df['region_attributes'].unique())\n",
    "        return df\n",
    "    else:\n",
    "        return None\n"
   ]
  },
  {
   "cell_type": "code",
   "execution_count": 5,
   "metadata": {},
   "outputs": [],
   "source": [
    "def read_df(folder_pig, path_csv):\n",
    "    path_csv = folder_pig + path_csv\n",
    "    if path_csv.endswith('xlsx'):\n",
    "        df = pd.read_excel(path_csv)\n",
    "    else:\n",
    "        df = pd.read_csv(path_csv)\n",
    "    \n",
    "    print(df.shape)\n",
    "    return df"
   ]
  },
  {
   "cell_type": "code",
   "execution_count": 8,
   "metadata": {
    "scrolled": true
   },
   "outputs": [
    {
     "name": "stdout",
     "output_type": "stream",
     "text": [
      "(3451, 7)\n",
      "(535, 7)\n",
      "(10345, 7)\n",
      "(6519, 7)\n",
      "(1777, 7)\n",
      "(1041, 7)\n",
      "(753, 7)\n",
      "(20568, 7)\n",
      "(21940, 7)\n"
     ]
    }
   ],
   "source": [
    "df1 = read_df(folder_pig + 'object1/', 'box1.csv')\n",
    "df2 = read_df(folder_pig + 'object2/', 'box2.csv')\n",
    "df3 = read_df(folder_pig + 'object3/', 'box3.csv.xlsx')\n",
    "df4 = read_df(folder_pig + 'object4/', 'box4.csv')\n",
    "df5 = read_df(folder_pig + 'object5/', 'box5.csv')\n",
    "df6 = read_df(folder_pig + 'object6/', 'box6.csv')\n",
    "df2_11 = read_df(folder_pig + 'pig2-2020-11/', 'box2-11.csv')\n",
    "df3_11 = read_df(folder_pig + 'pig3-2020-11/', 'box3-11.csv')\n",
    "df6_11 = read_df(folder_pig + 'pig6-2020-11/', 'box6-11.csv')"
   ]
  },
  {
   "cell_type": "code",
   "execution_count": 9,
   "metadata": {},
   "outputs": [
    {
     "data": {
      "text/plain": [
       "(20568, 7)"
      ]
     },
     "execution_count": 9,
     "metadata": {},
     "output_type": "execute_result"
    }
   ],
   "source": [
    "df = df3_11\n",
    "#df = pd.concat((df1, df2, df3, df4, df5, df6), axis=0)\n",
    "df.shape"
   ]
  },
  {
   "cell_type": "code",
   "execution_count": 10,
   "metadata": {},
   "outputs": [
    {
     "data": {
      "text/plain": [
       "(20601,\n",
       " '/home/mvlab/Downloads/dataset/pig/pig3-2020-11/2020-11-11/image/geomex-pig03_2020-11-11_130754_temp-12.40_wat-47.40.jpg')"
      ]
     },
     "execution_count": 10,
     "metadata": {},
     "output_type": "execute_result"
    }
   ],
   "source": [
    "#path_images = glob(folder_pig + 'pig2-2020-11/*/*/*.jpg')\n",
    "path_images = glob(folder_pig + 'pig3-2020-11/*/*/*.jpg')\n",
    "#path_images = glob(folder_pig + 'pig6-2020-11/*/*/*.jpg')\n",
    "#path_images = glob(folder_pig + 'object3/*.jpg')\n",
    "len(path_images), path_images[0]"
   ]
  },
  {
   "cell_type": "code",
   "execution_count": 11,
   "metadata": {
    "scrolled": false
   },
   "outputs": [
    {
     "data": {
      "text/plain": [
       "array(['{}', '{\"class\":\"너구리\"}', '{\"class\":\"모름\"}', '{\"class\":\"큰부리까마귀\"}'],\n",
       "      dtype=object)"
      ]
     },
     "execution_count": 11,
     "metadata": {},
     "output_type": "execute_result"
    }
   ],
   "source": [
    "df['region_attributes'].unique()"
   ]
  },
  {
   "cell_type": "code",
   "execution_count": 12,
   "metadata": {
    "scrolled": true
   },
   "outputs": [
    {
     "data": {
      "text/html": [
       "<div>\n",
       "<style scoped>\n",
       "    .dataframe tbody tr th:only-of-type {\n",
       "        vertical-align: middle;\n",
       "    }\n",
       "\n",
       "    .dataframe tbody tr th {\n",
       "        vertical-align: top;\n",
       "    }\n",
       "\n",
       "    .dataframe thead th {\n",
       "        text-align: right;\n",
       "    }\n",
       "</style>\n",
       "<table border=\"1\" class=\"dataframe\">\n",
       "  <thead>\n",
       "    <tr style=\"text-align: right;\">\n",
       "      <th></th>\n",
       "      <th>filename</th>\n",
       "      <th>file_size</th>\n",
       "      <th>file_attributes</th>\n",
       "      <th>region_count</th>\n",
       "      <th>region_id</th>\n",
       "      <th>region_shape_attributes</th>\n",
       "      <th>region_attributes</th>\n",
       "    </tr>\n",
       "  </thead>\n",
       "  <tbody>\n",
       "    <tr>\n",
       "      <th>0</th>\n",
       "      <td>geomex-pig03_2020-11-01_072751_temp-10.00_wat-...</td>\n",
       "      <td>280431</td>\n",
       "      <td>{}</td>\n",
       "      <td>0</td>\n",
       "      <td>0</td>\n",
       "      <td>{}</td>\n",
       "      <td>{}</td>\n",
       "    </tr>\n",
       "    <tr>\n",
       "      <th>1</th>\n",
       "      <td>geomex-pig03_2020-11-01_072950_temp-10.00_wat-...</td>\n",
       "      <td>276974</td>\n",
       "      <td>{}</td>\n",
       "      <td>0</td>\n",
       "      <td>0</td>\n",
       "      <td>{}</td>\n",
       "      <td>{}</td>\n",
       "    </tr>\n",
       "    <tr>\n",
       "      <th>2</th>\n",
       "      <td>geomex-pig03_2020-11-01_073149_temp-9.90_wat-9...</td>\n",
       "      <td>268881</td>\n",
       "      <td>{}</td>\n",
       "      <td>0</td>\n",
       "      <td>0</td>\n",
       "      <td>{}</td>\n",
       "      <td>{}</td>\n",
       "    </tr>\n",
       "    <tr>\n",
       "      <th>3</th>\n",
       "      <td>geomex-pig03_2020-11-01_073349_temp-9.90_wat-9...</td>\n",
       "      <td>275350</td>\n",
       "      <td>{}</td>\n",
       "      <td>0</td>\n",
       "      <td>0</td>\n",
       "      <td>{}</td>\n",
       "      <td>{}</td>\n",
       "    </tr>\n",
       "    <tr>\n",
       "      <th>4</th>\n",
       "      <td>geomex-pig03_2020-11-01_073548_temp-9.90_wat-9...</td>\n",
       "      <td>268982</td>\n",
       "      <td>{}</td>\n",
       "      <td>0</td>\n",
       "      <td>0</td>\n",
       "      <td>{}</td>\n",
       "      <td>{}</td>\n",
       "    </tr>\n",
       "    <tr>\n",
       "      <th>...</th>\n",
       "      <td>...</td>\n",
       "      <td>...</td>\n",
       "      <td>...</td>\n",
       "      <td>...</td>\n",
       "      <td>...</td>\n",
       "      <td>...</td>\n",
       "      <td>...</td>\n",
       "    </tr>\n",
       "    <tr>\n",
       "      <th>20563</th>\n",
       "      <td>geomex-pig03_2020-11-30_235157_temp--4.30_wat-...</td>\n",
       "      <td>88847</td>\n",
       "      <td>{}</td>\n",
       "      <td>0</td>\n",
       "      <td>0</td>\n",
       "      <td>{}</td>\n",
       "      <td>{}</td>\n",
       "    </tr>\n",
       "    <tr>\n",
       "      <th>20564</th>\n",
       "      <td>geomex-pig03_2020-11-30_235357_temp--4.40_wat-...</td>\n",
       "      <td>88788</td>\n",
       "      <td>{}</td>\n",
       "      <td>0</td>\n",
       "      <td>0</td>\n",
       "      <td>{}</td>\n",
       "      <td>{}</td>\n",
       "    </tr>\n",
       "    <tr>\n",
       "      <th>20565</th>\n",
       "      <td>geomex-pig03_2020-11-30_235557_temp--4.40_wat-...</td>\n",
       "      <td>88944</td>\n",
       "      <td>{}</td>\n",
       "      <td>0</td>\n",
       "      <td>0</td>\n",
       "      <td>{}</td>\n",
       "      <td>{}</td>\n",
       "    </tr>\n",
       "    <tr>\n",
       "      <th>20566</th>\n",
       "      <td>geomex-pig03_2020-11-30_235757_temp--4.40_wat-...</td>\n",
       "      <td>89596</td>\n",
       "      <td>{}</td>\n",
       "      <td>0</td>\n",
       "      <td>0</td>\n",
       "      <td>{}</td>\n",
       "      <td>{}</td>\n",
       "    </tr>\n",
       "    <tr>\n",
       "      <th>20567</th>\n",
       "      <td>geomex-pig03_2020-11-30_235957_temp--4.40_wat-...</td>\n",
       "      <td>89230</td>\n",
       "      <td>{}</td>\n",
       "      <td>0</td>\n",
       "      <td>0</td>\n",
       "      <td>{}</td>\n",
       "      <td>{}</td>\n",
       "    </tr>\n",
       "  </tbody>\n",
       "</table>\n",
       "<p>20568 rows × 7 columns</p>\n",
       "</div>"
      ],
      "text/plain": [
       "                                                filename  file_size  \\\n",
       "0      geomex-pig03_2020-11-01_072751_temp-10.00_wat-...     280431   \n",
       "1      geomex-pig03_2020-11-01_072950_temp-10.00_wat-...     276974   \n",
       "2      geomex-pig03_2020-11-01_073149_temp-9.90_wat-9...     268881   \n",
       "3      geomex-pig03_2020-11-01_073349_temp-9.90_wat-9...     275350   \n",
       "4      geomex-pig03_2020-11-01_073548_temp-9.90_wat-9...     268982   \n",
       "...                                                  ...        ...   \n",
       "20563  geomex-pig03_2020-11-30_235157_temp--4.30_wat-...      88847   \n",
       "20564  geomex-pig03_2020-11-30_235357_temp--4.40_wat-...      88788   \n",
       "20565  geomex-pig03_2020-11-30_235557_temp--4.40_wat-...      88944   \n",
       "20566  geomex-pig03_2020-11-30_235757_temp--4.40_wat-...      89596   \n",
       "20567  geomex-pig03_2020-11-30_235957_temp--4.40_wat-...      89230   \n",
       "\n",
       "      file_attributes  region_count  region_id region_shape_attributes  \\\n",
       "0                  {}             0          0                      {}   \n",
       "1                  {}             0          0                      {}   \n",
       "2                  {}             0          0                      {}   \n",
       "3                  {}             0          0                      {}   \n",
       "4                  {}             0          0                      {}   \n",
       "...               ...           ...        ...                     ...   \n",
       "20563              {}             0          0                      {}   \n",
       "20564              {}             0          0                      {}   \n",
       "20565              {}             0          0                      {}   \n",
       "20566              {}             0          0                      {}   \n",
       "20567              {}             0          0                      {}   \n",
       "\n",
       "      region_attributes  \n",
       "0                    {}  \n",
       "1                    {}  \n",
       "2                    {}  \n",
       "3                    {}  \n",
       "4                    {}  \n",
       "...                 ...  \n",
       "20563                {}  \n",
       "20564                {}  \n",
       "20565                {}  \n",
       "20566                {}  \n",
       "20567                {}  \n",
       "\n",
       "[20568 rows x 7 columns]"
      ]
     },
     "execution_count": 12,
     "metadata": {},
     "output_type": "execute_result"
    }
   ],
   "source": [
    "df"
   ]
  },
  {
   "cell_type": "code",
   "execution_count": 13,
   "metadata": {
    "scrolled": false
   },
   "outputs": [],
   "source": [
    "annotation = dict()\n",
    "object_width_list = []\n",
    "for i in range(len(df)):\n",
    "    \n",
    "    sample_row = df.iloc[i]\n",
    "    filename = sample_row['filename']    \n",
    "    region_id = sample_row['region_id']\n",
    "    box = sample_row['region_shape_attributes']    \n",
    "    region_attributes = sample_row['region_attributes'] \n",
    "    if '(' in filename:\n",
    "        print('()', filename)\n",
    "    try:\n",
    "        box_map = ast.literal_eval(box)    \n",
    "        region_attributes = ast.literal_eval(region_attributes)        \n",
    "    except:\n",
    "        print('except filename',i, filename)\n",
    "        print('box', box)\n",
    "        print('region_attributes', region_attributes)\n",
    "        continue\n",
    "    \n",
    "    if len(box_map.keys())<1 or len(region_attributes.keys())<1 :\n",
    "        #print(i, 'no_keys_skip', filename.split(os.sep)[-1])\n",
    "        continue\n",
    "        \n",
    "    cls = region_attributes['class']\n",
    "    if cls in class_names_kor:\n",
    "        cls_num = class_names_kor.index(cls)\n",
    "    elif cls in class_names:\n",
    "        cls_num = class_names.index(cls)\n",
    "    else:\n",
    "        print('cls unknown', cls)\n",
    "        print('filename', filename)\n",
    "        continue\n",
    "        #xit()\n",
    "        \n",
    "    x0 = box_map['x']\n",
    "    y0 = box_map['y']\n",
    "    width = box_map['width']\n",
    "    height = box_map['height']    \n",
    "   \n",
    "    object_width_list.append(width)    \n",
    "    bbox = [cls_num, x0, y0, x0 + width, y0 + height]\n",
    "    \n",
    "    if filename not in annotation.keys():\n",
    "        annotation[filename] = []\n",
    "    \n",
    "    annotation[filename].append(bbox)            \n",
    "    #print(i, df.loc[i, 'filename'], width, height)"
   ]
  },
  {
   "cell_type": "code",
   "execution_count": 14,
   "metadata": {},
   "outputs": [
    {
     "data": {
      "text/plain": [
       "118"
      ]
     },
     "execution_count": 14,
     "metadata": {},
     "output_type": "execute_result"
    }
   ],
   "source": [
    "len(annotation)"
   ]
  },
  {
   "cell_type": "code",
   "execution_count": 15,
   "metadata": {},
   "outputs": [
    {
     "name": "stdout",
     "output_type": "stream",
     "text": [
      "118 100 100\n",
      "118 118\n"
     ]
    }
   ],
   "source": [
    "def load_pig():\n",
    "    input_list = []\n",
    "    bbox_list = []\n",
    "    path_list = []\n",
    "    for path_image in annotation:\n",
    "        cls_bbox = annotation[path_image]\n",
    "        cls_bbox = np.array(cls_bbox).reshape([-1, 5])\n",
    "        cls = cls_bbox[:, 0:1]\n",
    "        bbox = np.array(cls_bbox[:, 1:])\n",
    "        \n",
    "        #print('path_image', path_image)\n",
    "        if True:\n",
    "            for full_path in path_images:\n",
    "                if path_image in full_path:\n",
    "                    path_image = full_path\n",
    "\n",
    "        if os.path.isfile(path_image):\n",
    "            img = Image.open(path_image)    \n",
    "            #img = img.resize((1000,500))\n",
    "           \n",
    "            scale = np.array((img.width, img.height, img.width, img.height))\n",
    "            scale = np.reshape(scale, (1, 4))       \n",
    "            #print(key, cls, cls_bbox.dtype, cls_bbox, 'wh',img.width, img.height)\n",
    "            img_arr = np.array(img)        \n",
    "            del img\n",
    "            bbox_norm = bbox.astype(np.float) / scale.astype(np.float)\n",
    "            cls = np.array(cls).reshape((-1, 1))\n",
    "            cls_bbox_norm = np.concatenate((cls, bbox_norm), axis=1)\n",
    "                \n",
    "            input_list.append(img_arr)\n",
    "            bbox_list.append(cls_bbox_norm)\n",
    "            path_list.append(full_path)\n",
    "            if len(input_list)%100==0:        \n",
    "                print(len(annotation), len(input_list), len(bbox_list))   \n",
    "        else:\n",
    "            print('not exist', path_image)\n",
    "\n",
    "    print(len(input_list), len(bbox_list))\n",
    "    return input_list, bbox_list\n",
    "    \n",
    "input_list_pig, bbox_list_pig = load_pig()#1709, 1759"
   ]
  },
  {
   "cell_type": "code",
   "execution_count": 16,
   "metadata": {},
   "outputs": [
    {
     "data": {
      "text/plain": [
       "(298, (302, 5))"
      ]
     },
     "execution_count": 16,
     "metadata": {},
     "output_type": "execute_result"
    }
   ],
   "source": [
    "boxes = np.concatenate(bbox_list_pig, 0)\n",
    "np.sum(boxes[:, 0]>3), boxes.shape"
   ]
  },
  {
   "cell_type": "code",
   "execution_count": 17,
   "metadata": {},
   "outputs": [
    {
     "data": {
      "text/plain": [
       "118"
      ]
     },
     "execution_count": 17,
     "metadata": {},
     "output_type": "execute_result"
    }
   ],
   "source": [
    "len(input_list_pig)"
   ]
  },
  {
   "cell_type": "code",
   "execution_count": 18,
   "metadata": {},
   "outputs": [],
   "source": [
    "def crop_bbox_image(image, boxes):\n",
    "    img_objects = []\n",
    "    image = np.array(image)\n",
    "    for box in boxes:        \n",
    "        box = box.astype(np.int)\n",
    "        x1, y1, x2, y2 = box\n",
    "        w = x2 - x1\n",
    "        h = y2 - y1        \n",
    "        crop_image_arr = image[y1:y2, x1:x2]\n",
    "        ch, cw, cc = crop_image_arr.shape\n",
    "        if ch>1 and cw>1:\n",
    "            img_objects.append(crop_image_arr)\n",
    "        else:\n",
    "            print('crop_bbox_image', x2-x1, y2-y1, 'crop_image_arr.shape', crop_image_arr.shape)\n",
    "        \n",
    "    return img_objects\n",
    "    \n",
    "    \n",
    "def attach_crop_image(image, boxes, max_crop=200):\n",
    "        \n",
    "    crop_bbox_arr = crop_bbox_image(image, np.array(boxes)[:max_crop])\n",
    "    bbox_k = len(crop_bbox_arr)\n",
    "    max_col = 30\n",
    "    \n",
    "    if bbox_k > 0:\n",
    "        img_h, img_w, img_c = image.shape\n",
    "        object_img_w = img_w//bbox_k        \n",
    "        resize_h = img_h // 8\n",
    "        resize_w = img_w // bbox_k  \n",
    "        resize_w = min(max(resize_w, img_w//max_col), img_w//8)\n",
    "        \n",
    "        footer_h = resize_h * (1 + (bbox_k-1)//max_col)\n",
    "        footer = np.zeros((footer_h, img_w, img_c), np.uint8)\n",
    "        \n",
    "        for i in range(min(bbox_k, max_crop)):\n",
    "            crop_arr = crop_bbox_arr[i]\n",
    "            crop_img = Image.fromarray(crop_arr)                \n",
    "            crop_img = crop_img.resize((resize_w, resize_h))\n",
    "            crop_arr_resized = np.array(crop_img)\n",
    "            offset_y = (i//max_col) * resize_h\n",
    "            offset_x = (i%max_col) * resize_w\n",
    "            footer[offset_y:offset_y+resize_h, offset_x:offset_x+resize_w] = crop_arr_resized\n",
    "\n",
    "        seperate_line = np.zeros_like(footer[:2])\n",
    "        image = np.concatenate((image, seperate_line, footer), axis=0)    \n",
    "    return image    "
   ]
  },
  {
   "cell_type": "code",
   "execution_count": 19,
   "metadata": {},
   "outputs": [],
   "source": [
    "def visualize_detections_simple(\n",
    "    image, boxes, classes, figsize=(12, 12), linewidth=1, color=[0, 0, 1]\n",
    "):\n",
    "    \"\"\"Visualize Detections\"\"\"\n",
    "    image = np.array(image, dtype=np.uint8)    \n",
    "    \n",
    "    img_h, img_w, img_c = image.shape\n",
    "    \n",
    "    image = attach_crop_image(image, boxes, max_crop=100)\n",
    "    \n",
    "    plt.figure(figsize=figsize)\n",
    "    plt.axis(\"off\")\n",
    "    plt.imshow(image)\n",
    "    ax = plt.gca()\n",
    "    boxes_width = boxes[:, 2] - boxes[:, 0]\n",
    "    boxes_height = boxes[:, 3] - boxes[:, 1]\n",
    "    box_min_width = np.min(boxes_width)\n",
    "    box_max_width = np.max(boxes_width)\n",
    "    title = str.format('(%dx%d) %d box, width:%d ~ %d' \n",
    "                       %(img_h, img_w, len(boxes), box_min_width, box_max_width))\n",
    "    plt.title(title)\n",
    "    for box, cls in zip(boxes, classes):\n",
    "        x1, y1, x2, y2 = box        \n",
    "        w, h = x2 - x1, y2 - y1\n",
    "        color = edgecolors[int(cls)]\n",
    "        patch = plt.Rectangle(\n",
    "            [x1, y1], w, h, fill=False, edgecolor=color, linewidth=linewidth\n",
    "        )\n",
    "        ax.add_patch(patch)\n",
    "        if len(boxes) < 70:\n",
    "            score_txt = class_names[int(cls)]\n",
    "            ax.text(x1, y1, score_txt, bbox={\"facecolor\": [1,1,0], \"alpha\": 0.4}, clip_box=ax.clipbox, clip_on=True,)\n",
    "        \n",
    "    plt.show()\n",
    "    return ax\n",
    "\n",
    "def display_data(X, BBOX, stride=1):\n",
    "    for i in range(len(X)):\n",
    "        if i%stride==0:\n",
    "            img_arr = X[i]\n",
    "            sample_box = BBOX[i]\n",
    "            label = sample_box[:, 0]\n",
    "            bbox = sample_box[:, 1:]\n",
    "\n",
    "            h, w, c = img_arr.shape\n",
    "            scale = np.array((w, h, w, h))\n",
    "            scale = np.reshape(scale, (1, 4))\n",
    "            bbox_norm = bbox.astype(np.float) * scale.astype(np.float)\n",
    "            #print('bbox_norm', bbox, bbox_norm)\n",
    "            print(i, np.unique(label))\n",
    "            ax = visualize_detections_simple(img_arr,bbox_norm,label)"
   ]
  },
  {
   "cell_type": "markdown",
   "metadata": {
    "scrolled": false
   },
   "source": [
    "display_data(input_list_pig, bbox_list_pig, stride=10)"
   ]
  },
  {
   "cell_type": "code",
   "execution_count": null,
   "metadata": {},
   "outputs": [],
   "source": []
  }
 ],
 "metadata": {
  "kernelspec": {
   "display_name": "Python 3",
   "language": "python",
   "name": "python3"
  },
  "language_info": {
   "codemirror_mode": {
    "name": "ipython",
    "version": 3
   },
   "file_extension": ".py",
   "mimetype": "text/x-python",
   "name": "python",
   "nbconvert_exporter": "python",
   "pygments_lexer": "ipython3",
   "version": "3.8.3"
  }
 },
 "nbformat": 4,
 "nbformat_minor": 4
}
