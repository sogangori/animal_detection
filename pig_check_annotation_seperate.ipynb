{
 "cells": [
  {
   "cell_type": "code",
   "execution_count": 1,
   "metadata": {},
   "outputs": [],
   "source": [
    "import os\n",
    "import re\n",
    "import zipfile\n",
    "import pandas as pd\n",
    "import numpy as np\n",
    "import matplotlib.pyplot as plt\n",
    "\n",
    "from PIL import Image\n",
    "import ast\n",
    "import json\n",
    "from glob import glob"
   ]
  },
  {
   "cell_type": "code",
   "execution_count": 2,
   "metadata": {},
   "outputs": [],
   "source": [
    "use_size_down = True"
   ]
  },
  {
   "cell_type": "code",
   "execution_count": 3,
   "metadata": {},
   "outputs": [
    {
     "data": {
      "text/plain": [
       "(True, True)"
      ]
     },
     "execution_count": 3,
     "metadata": {},
     "output_type": "execute_result"
    }
   ],
   "source": [
    "class_names_kor = ['', '모름', '멧돼지사체','돼지사체', '돼지', '멧돼지', '큰부리까마귀', '흰배지빠귀', '유리딱새', '동고비', \n",
    "               '박새', '호랑지빠귀', '검독수리', '너구리', '설치류', '다람쥐', '사람']\n",
    "class_names = ['bg','unknown', 'boar_dead', 'pig_dead','pig', 'boar', 'crow', 'bird_hinbejipagi', 'bird_ddaksae', \n",
    "               'bird_dongobi', 'bird_baksae', 'bird_horangjipagi', 'bird_eagle', \n",
    "               'racoon', 'rat', 'squrrel', 'human']\n",
    "\n",
    "folder_pig = '/home/mvlab/Downloads/dataset/pig/'\n",
    "folder_pig_annotation = folder_pig + 'annotation/'\n",
    "os.path.isdir(folder_pig), os.path.isdir(folder_pig_annotation)"
   ]
  },
  {
   "cell_type": "code",
   "execution_count": 4,
   "metadata": {},
   "outputs": [
    {
     "data": {
      "text/plain": [
       "array(['/home/mvlab/Downloads/dataset/pig/annotation/box1-10.csv',\n",
       "       '/home/mvlab/Downloads/dataset/pig/annotation/box1-11.csv',\n",
       "       '/home/mvlab/Downloads/dataset/pig/annotation/box2-10.xlsx',\n",
       "       '/home/mvlab/Downloads/dataset/pig/annotation/box2-11.csv',\n",
       "       '/home/mvlab/Downloads/dataset/pig/annotation/box3-10.csv.xlsx',\n",
       "       '/home/mvlab/Downloads/dataset/pig/annotation/box3-11.csv',\n",
       "       '/home/mvlab/Downloads/dataset/pig/annotation/box4-10.csv',\n",
       "       '/home/mvlab/Downloads/dataset/pig/annotation/box5-10.csv',\n",
       "       '/home/mvlab/Downloads/dataset/pig/annotation/box5-11_csv.csv',\n",
       "       '/home/mvlab/Downloads/dataset/pig/annotation/box6-10.csv',\n",
       "       '/home/mvlab/Downloads/dataset/pig/annotation/box6-11.csv'],\n",
       "      dtype='<U61')"
      ]
     },
     "execution_count": 4,
     "metadata": {},
     "output_type": "execute_result"
    }
   ],
   "source": [
    "#list_annotation = glob(folder_pig_annotation + 'box1-10.*')\n",
    "list_annotation = glob(folder_pig_annotation + '*.csv') + glob(folder_pig_annotation + '*.xlsx')\n",
    "list_annotation = np.sort(list_annotation)\n",
    "list_annotation"
   ]
  },
  {
   "cell_type": "code",
   "execution_count": 5,
   "metadata": {},
   "outputs": [],
   "source": [
    "def load_annotations(list_annotation):\n",
    "    list_df = []\n",
    "    for annotation in list_annotation:\n",
    "        if annotation.endswith('xlsx'):\n",
    "            df = pd.read_excel(annotation)\n",
    "        else:\n",
    "            df = pd.read_csv(annotation)\n",
    "            \n",
    "        print(annotation.split(os.sep)[-1], df.shape)\n",
    "        list_df.append(df)\n",
    "    return list_df        "
   ]
  },
  {
   "cell_type": "code",
   "execution_count": 6,
   "metadata": {},
   "outputs": [
    {
     "name": "stdout",
     "output_type": "stream",
     "text": [
      "box1-10.csv (3451, 7)\n",
      "box1-11.csv (7979, 7)\n",
      "box2-10.xlsx (855, 7)\n",
      "box2-11.csv (19648, 7)\n",
      "box3-10.csv.xlsx (15014, 7)\n",
      "box3-11.csv (21569, 7)\n",
      "box4-10.csv (6519, 7)\n",
      "box5-10.csv (1777, 7)\n",
      "box5-11_csv.csv (197, 7)\n",
      "box6-10.csv (1041, 7)\n",
      "box6-11.csv (24408, 7)\n"
     ]
    }
   ],
   "source": [
    "list_df = load_annotations(list_annotation)"
   ]
  },
  {
   "cell_type": "code",
   "execution_count": 7,
   "metadata": {},
   "outputs": [
    {
     "data": {
      "text/plain": [
       "(102458, 7)"
      ]
     },
     "execution_count": 7,
     "metadata": {},
     "output_type": "execute_result"
    }
   ],
   "source": [
    "#df = df6\n",
    "df = pd.concat(list_df, axis=0, ignore_index=True)\n",
    "df.shape"
   ]
  },
  {
   "cell_type": "code",
   "execution_count": 8,
   "metadata": {},
   "outputs": [
    {
     "data": {
      "text/plain": [
       "(188539,\n",
       " '/home/mvlab/Downloads/dataset/pig/pig2/2020-10/geomex-pig02_2020-09-10_074418_temp-18.00_wat-97.10.jpg')"
      ]
     },
     "execution_count": 8,
     "metadata": {},
     "output_type": "execute_result"
    }
   ],
   "source": [
    "path_images_0 = glob(folder_pig + '*/*/*.jpg')\n",
    "path_images_1 = glob(folder_pig + '*/*/*/*.jpg')\n",
    "path_images = path_images_0 + path_images_1\n",
    "#path_images = glob(folder_pig + 'object6/*.jpg')\n",
    "len(path_images), path_images[0]"
   ]
  },
  {
   "cell_type": "code",
   "execution_count": 9,
   "metadata": {},
   "outputs": [
    {
     "data": {
      "text/plain": [
       "187553"
      ]
     },
     "execution_count": 9,
     "metadata": {},
     "output_type": "execute_result"
    }
   ],
   "source": [
    "dict_path = dict() #5.0 GiB 7.9%\n",
    "for path_image in path_images:\n",
    "    image_file_name = path_image.split(os.sep)[-1]\n",
    "    #print('image_file_name', image_file_name)\n",
    "    dict_path[image_file_name] = path_image    \n",
    "\n",
    "len(dict_path)"
   ]
  },
  {
   "cell_type": "code",
   "execution_count": 10,
   "metadata": {
    "scrolled": false
   },
   "outputs": [
    {
     "data": {
      "text/plain": [
       "array(['{\"class\":\"돼지\"}', '{\"class\":\"사람\"}', '{\"class\":\"모름\"}', '{}',\n",
       "       '{\"class\":\"멧돼지\"}', '{\"class\":\"흰배지빠귀\"}', '{\"class\":\"큰부리까마귀\"}',\n",
       "       '{\"class\":\"다람쥐\"}', '{\"class\":\"호랑지빠귀\"}', '{\"class\":\"설치류\"}',\n",
       "       '{\"class\":\"유리딱새\"}', '{\"class\":\"동고비\"}', '{\"class\":\"멧돼지사체\"}',\n",
       "       '{\"class\":\"박새\"}', '{\"class\":\"검독수리\"}', '{\"class\":\"너구리\"}',\n",
       "       '{\"class\":undefined}', '{\"class\":\"돼지사체\"}', '{\"class\":\"crow\"}',\n",
       "       '{\"class\":\"pig\"}'], dtype=object)"
      ]
     },
     "execution_count": 10,
     "metadata": {},
     "output_type": "execute_result"
    }
   ],
   "source": [
    "df['region_attributes'].unique()"
   ]
  },
  {
   "cell_type": "code",
   "execution_count": 11,
   "metadata": {
    "scrolled": false
   },
   "outputs": [
    {
     "name": "stdout",
     "output_type": "stream",
     "text": [
      "except filename 54161 geomex-pig03_2020-11-10_095804_temp-6.80_wat-75.40.jpg\n",
      "box {\"name\":\"rect\",\"x\":343,\"y\":736,\"width\":170,\"height\":203}\n",
      "region_attributes {\"class\":undefined}\n",
      "() geomex-pig04_2020-09-12_085151_temp-17.50_wat-99.90 (1).jpg\n",
      "() geomex-pig04_2020-09-12_085151_temp-17.50_wat-99.90 (1).jpg\n",
      "() geomex-pig04_2020-09-12_085151_temp-17.50_wat-99.90 (1).jpg\n",
      "() geomex-pig04_2020-10-30_092128_temp-11.50_wat-51.40 (1).jpg\n",
      "() geomex-pig04_2020-10-30_092128_temp-11.50_wat-51.40 (1).jpg\n",
      "except filename 76922 geomex-pig05_2020-11-01_134532_temp-9.70_wat-99.90.jpg\n",
      "box {\"name\":\"rect\",\"x\":1587,\"y\":366,\"width\":57,\"height\":71}\n",
      "region_attributes {\"class\":undefined}\n",
      "except filename 77048 geomex-pig06_2020-09-04_143253_temp-00.00_wat-00.00.jpg\n",
      "box {\"name\":\"rect\",\"x\":832,\"y\":13,\"width\":571,\"height\":911}\n",
      "region_attributes {\"class\":undefined}\n"
     ]
    }
   ],
   "source": [
    "annotation = dict()\n",
    "object_width_list = []\n",
    "for i in range(len(df)):        \n",
    "    sample_row = df.iloc[i]\n",
    "    filename = sample_row['filename']    \n",
    "    region_id = sample_row['region_id']\n",
    "    box = sample_row['region_shape_attributes']    \n",
    "    region_attributes = sample_row['region_attributes'] \n",
    "    \n",
    "    if '(' in filename:\n",
    "        print('()', filename)\n",
    "    try:\n",
    "        box_map = ast.literal_eval(box)    \n",
    "        region_attributes = ast.literal_eval(region_attributes)        \n",
    "    except:\n",
    "        print('except filename',i, filename)\n",
    "        print('box', box)\n",
    "        print('region_attributes', region_attributes)\n",
    "        continue\n",
    "    \n",
    "    if len(box_map.keys()) < 1 or len(region_attributes.keys())<1 :\n",
    "        #print(i, 'no_keys_skip', filename.split(os.sep)[-1])\n",
    "        continue\n",
    "        \n",
    "    cls = region_attributes['class']\n",
    "    if cls in class_names_kor:\n",
    "        cls_num = class_names_kor.index(cls)\n",
    "    elif cls in class_names:\n",
    "        cls_num = class_names.index(cls)\n",
    "    else:\n",
    "        print('cls unknown', cls)\n",
    "        print('filename', filename)\n",
    "        continue        \n",
    "        \n",
    "    x0 = box_map['x']\n",
    "    y0 = box_map['y']\n",
    "    width = box_map['width']\n",
    "    height = box_map['height']    \n",
    "   \n",
    "    object_width_list.append(width)    \n",
    "    bbox = [cls_num, x0, y0, x0 + width, y0 + height]\n",
    "    \n",
    "    if filename not in annotation.keys():\n",
    "        annotation[filename] = []\n",
    "   \n",
    "    annotation[filename].append(bbox)     "
   ]
  },
  {
   "cell_type": "code",
   "execution_count": 12,
   "metadata": {},
   "outputs": [
    {
     "data": {
      "text/plain": [
       "13164"
      ]
     },
     "execution_count": 12,
     "metadata": {},
     "output_type": "execute_result"
    }
   ],
   "source": [
    "len(annotation)"
   ]
  },
  {
   "cell_type": "code",
   "execution_count": null,
   "metadata": {},
   "outputs": [],
   "source": [
    "def load_pig():\n",
    "    input_list = []\n",
    "    bbox_list = []\n",
    "    path_list = []\n",
    "    for path_image in annotation:\n",
    "        cls_bbox = annotation[path_image]\n",
    "        cls_bbox = np.array(cls_bbox).reshape([-1, 5])\n",
    "        cls = cls_bbox[:, 0:1]\n",
    "        bbox = np.array(cls_bbox[:, 1:])\n",
    "              \n",
    "        full_path = dict_path[path_image]\n",
    "        if os.path.isfile(full_path):\n",
    "            img = Image.open(full_path)                           \n",
    "            scale = np.array((img.width, img.height, img.width, img.height)).reshape((1, 4))            \n",
    "            #print(key, cls, cls_bbox.dtype, cls_bbox, 'wh',img.width, img.height)\n",
    "            \n",
    "            if use_size_down:\n",
    "                w, h = img.size\n",
    "                img = img.resize((w//2, h//2))\n",
    "            img_arr = np.array(img)        \n",
    "            \n",
    "            bbox_norm = bbox.astype(np.float) / scale.astype(np.float)\n",
    "            cls = np.array(cls).reshape((-1, 1))\n",
    "            cls_bbox_norm = np.concatenate((cls, bbox_norm), axis=1)\n",
    "                \n",
    "            input_list.append(img_arr)\n",
    "            bbox_list.append(cls_bbox_norm)\n",
    "            path_list.append(full_path)\n",
    "            if len(input_list)%100==0:        \n",
    "                print(len(annotation), len(input_list), len(bbox_list))   \n",
    "            if len(input_list) > 15000:\n",
    "                print('stop', len(input_list))\n",
    "                break\n",
    "        else:\n",
    "            print('not exist', path_image)\n",
    "            print('not exist full_path', full_path)\n",
    "\n",
    "    print(len(input_list), len(bbox_list))\n",
    "    return input_list, bbox_list\n",
    "    \n",
    "input_list_pig, bbox_list_pig = load_pig()#1709, 1759"
   ]
  },
  {
   "cell_type": "code",
   "execution_count": null,
   "metadata": {},
   "outputs": [],
   "source": [
    "boxes = np.concatenate(bbox_list_pig, 0)\n",
    "boxes.shape, np.sum(boxes[:, 0]>3)"
   ]
  },
  {
   "cell_type": "code",
   "execution_count": null,
   "metadata": {},
   "outputs": [],
   "source": [
    "len(input_list_pig)"
   ]
  },
  {
   "cell_type": "code",
   "execution_count": null,
   "metadata": {},
   "outputs": [],
   "source": [
    "def crop_bbox_image(image, boxes):\n",
    "    img_objects = []\n",
    "    image = np.array(image)\n",
    "    for box in boxes:        \n",
    "        box = box.astype(np.int)\n",
    "        x1, y1, x2, y2 = box\n",
    "        w = x2 - x1\n",
    "        h = y2 - y1        \n",
    "        crop_image_arr = image[y1:y2, x1:x2]\n",
    "        ch, cw, cc = crop_image_arr.shape\n",
    "        if ch>1 and cw>1:\n",
    "            img_objects.append(crop_image_arr)\n",
    "        else:\n",
    "            print('crop_bbox_image', x2-x1, y2-y1, 'crop_image_arr.shape', crop_image_arr.shape)\n",
    "        \n",
    "    return img_objects\n",
    "    \n",
    "    \n",
    "def attach_crop_image(image, boxes, max_crop=200):\n",
    "        \n",
    "    crop_bbox_arr = crop_bbox_image(image, np.array(boxes)[:max_crop])\n",
    "    bbox_k = len(crop_bbox_arr)\n",
    "    max_col = 30\n",
    "    \n",
    "    if bbox_k > 0:\n",
    "        img_h, img_w, img_c = image.shape\n",
    "        object_img_w = img_w//bbox_k        \n",
    "        resize_h = img_h // 8\n",
    "        resize_w = img_w // bbox_k  \n",
    "        resize_w = min(max(resize_w, img_w//max_col), img_w//8)\n",
    "        \n",
    "        footer_h = resize_h * (1 + (bbox_k-1)//max_col)\n",
    "        footer = np.zeros((footer_h, img_w, img_c), np.uint8)\n",
    "        \n",
    "        for i in range(min(bbox_k, max_crop)):\n",
    "            crop_arr = crop_bbox_arr[i]\n",
    "            crop_img = Image.fromarray(crop_arr)                \n",
    "            crop_img = crop_img.resize((resize_w, resize_h))\n",
    "            crop_arr_resized = np.array(crop_img)\n",
    "            offset_y = (i//max_col) * resize_h\n",
    "            offset_x = (i%max_col) * resize_w\n",
    "            footer[offset_y:offset_y+resize_h, offset_x:offset_x+resize_w] = crop_arr_resized\n",
    "\n",
    "        seperate_line = np.zeros_like(footer[:2])\n",
    "        image = np.concatenate((image, seperate_line, footer), axis=0)    \n",
    "    return image    "
   ]
  },
  {
   "cell_type": "code",
   "execution_count": null,
   "metadata": {},
   "outputs": [],
   "source": [
    "def visualize_detections_simple(\n",
    "    image, boxes, classes, figsize=(12, 12), linewidth=1, color=[0, 0, 1]\n",
    "):\n",
    "    \"\"\"Visualize Detections\"\"\"\n",
    "    image = np.array(image, dtype=np.uint8)    \n",
    "    \n",
    "    img_h, img_w, img_c = image.shape\n",
    "    \n",
    "    image = attach_crop_image(image, boxes, max_crop=100)\n",
    "    \n",
    "    plt.figure(figsize=figsize)\n",
    "    plt.axis(\"off\")\n",
    "    plt.imshow(image)\n",
    "    ax = plt.gca()\n",
    "    boxes_width = boxes[:, 2] - boxes[:, 0]\n",
    "    boxes_height = boxes[:, 3] - boxes[:, 1]\n",
    "    box_min_width = np.min(boxes_width)\n",
    "    box_max_width = np.max(boxes_width)\n",
    "    title = str.format('(%dx%d) %d box, width:%d ~ %d' \n",
    "                       %(img_h, img_w, len(boxes), box_min_width, box_max_width))\n",
    "    plt.title(title)\n",
    "    for box, cls in zip(boxes, classes):\n",
    "        x1, y1, x2, y2 = box        \n",
    "        w, h = x2 - x1, y2 - y1\n",
    "        #color = edgecolors[int(cls)]\n",
    "        color = (1, 1, 1)\n",
    "        patch = plt.Rectangle(\n",
    "            [x1, y1], w, h, fill=False, edgecolor=color, linewidth=linewidth\n",
    "        )\n",
    "        ax.add_patch(patch)\n",
    "        if len(boxes) < 70:\n",
    "            score_txt = class_names[int(cls)]\n",
    "            ax.text(x1, y1, score_txt, bbox={\"facecolor\": [1,1,0], \"alpha\": 0.4}, clip_box=ax.clipbox, clip_on=True,)\n",
    "        \n",
    "    plt.show()\n",
    "    return ax\n",
    "\n",
    "def display_data(X, BBOX, stride=1):\n",
    "    for i in range(len(X)):\n",
    "        if i%stride==0:\n",
    "            img_arr = X[i]\n",
    "            sample_box = BBOX[i]\n",
    "            label = sample_box[:, 0]\n",
    "            bbox = sample_box[:, 1:]\n",
    "\n",
    "            h, w, c = img_arr.shape\n",
    "            scale = np.array((w, h, w, h))\n",
    "            scale = np.reshape(scale, (1, 4))\n",
    "            bbox_norm = bbox.astype(np.float) * scale.astype(np.float)\n",
    "            #print('bbox_norm', bbox, bbox_norm)\n",
    "            print(i, np.unique(label))\n",
    "            ax = visualize_detections_simple(img_arr,bbox_norm,label)"
   ]
  },
  {
   "cell_type": "code",
   "execution_count": null,
   "metadata": {
    "scrolled": false
   },
   "outputs": [],
   "source": [
    "s = len(input_list_pig)//2\n",
    "e = -1\n",
    "display_data(input_list_pig[s:e], bbox_list_pig[s:e], stride=10)"
   ]
  },
  {
   "cell_type": "code",
   "execution_count": null,
   "metadata": {},
   "outputs": [],
   "source": []
  }
 ],
 "metadata": {
  "kernelspec": {
   "display_name": "Python 3",
   "language": "python",
   "name": "python3"
  },
  "language_info": {
   "codemirror_mode": {
    "name": "ipython",
    "version": 3
   },
   "file_extension": ".py",
   "mimetype": "text/x-python",
   "name": "python",
   "nbconvert_exporter": "python",
   "pygments_lexer": "ipython3",
   "version": "3.8.3"
  }
 },
 "nbformat": 4,
 "nbformat_minor": 4
}
