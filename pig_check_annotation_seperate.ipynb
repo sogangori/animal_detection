{
 "cells": [
  {
   "cell_type": "code",
   "execution_count": 1,
   "metadata": {},
   "outputs": [],
   "source": [
    "import os\n",
    "import re\n",
    "import zipfile\n",
    "import pandas as pd\n",
    "import numpy as np\n",
    "import matplotlib.pyplot as plt\n",
    "\n",
    "from PIL import Image\n",
    "import ast\n",
    "import json\n",
    "from glob import glob"
   ]
  },
  {
   "cell_type": "code",
   "execution_count": 2,
   "metadata": {},
   "outputs": [],
   "source": [
    "use_size_down = True"
   ]
  },
  {
   "cell_type": "code",
   "execution_count": 3,
   "metadata": {},
   "outputs": [
    {
     "data": {
      "text/plain": [
       "(True, True)"
      ]
     },
     "execution_count": 3,
     "metadata": {},
     "output_type": "execute_result"
    }
   ],
   "source": [
    "class_names_kor = ['배경', '모름', '멧돼지사체','돼지사체', '돼지사체', '멧돼지사체', '큰부리까마귀', '흰배지빠귀', '유리딱새', '동고비', \n",
    "               '박새', '호랑지빠귀', '검독수리', '너구리', '설치류', '다람쥐', '사람']\n",
    "class_names = ['bg','unknown', 'boar_dead', 'pig_dead','pig', 'boar', 'crow', 'bird_hinbejipagi', 'bird_ddaksae', \n",
    "               'bird_dongobi', 'bird_baksae', 'bird_horangjipagi', 'bird_eagle', \n",
    "               'racoon', 'rat', 'squrrel', 'human']\n",
    "\n",
    "folder_pig = '/home/mvlab/Downloads/dataset/pig/'\n",
    "folder_pig_annotation = folder_pig + 'annotation/'\n",
    "os.path.isdir(folder_pig), os.path.isdir(folder_pig_annotation)"
   ]
  },
  {
   "cell_type": "code",
   "execution_count": 89,
   "metadata": {},
   "outputs": [],
   "source": [
    "#['돼지사체', '사람', '조류', '멧돼지사체', '설치류', '포유류']\n",
    "category_dict = {\n",
    "    '큰부리까마귀': '조류',\n",
    "    '까마귀': '조류',\n",
    " '너구리': '포유류',\n",
    " '다람쥐': '설치류',\n",
    " '동고비': '조류',\n",
    " '돼지사체': '포유류',\n",
    " '사람': '영장류',\n",
    " '멧돼지사체': '포유류', \n",
    " '돼지': '포유류',\n",
    " '딱새': '조류',\n",
    " '유리딱새': '조류',\n",
    " '멧돼지': '포유류',\n",
    " '모름': '조류',\n",
    " '쥐': '설치류',\n",
    " '호랑지빠귀': '조류',\n",
    " '흰배지빠귀': '조류',\n",
    " '박새': '조류',\n",
    " '검독수리': '조류'\n",
    " }"
   ]
  },
  {
   "cell_type": "code",
   "execution_count": 61,
   "metadata": {},
   "outputs": [
    {
     "data": {
      "text/plain": [
       "{'bg': '배경',\n",
       " 'unknown': '모름',\n",
       " 'boar_dead': '멧돼지사체',\n",
       " 'pig_dead': '돼지사체',\n",
       " 'pig': '돼지사체',\n",
       " 'boar': '멧돼지사체',\n",
       " 'crow': '큰부리까마귀',\n",
       " 'bird_hinbejipagi': '흰배지빠귀',\n",
       " 'bird_ddaksae': '유리딱새',\n",
       " 'bird_dongobi': '동고비',\n",
       " 'bird_baksae': '박새',\n",
       " 'bird_horangjipagi': '호랑지빠귀',\n",
       " 'bird_eagle': '검독수리',\n",
       " 'racoon': '너구리',\n",
       " 'rat': '설치류',\n",
       " 'squrrel': '다람쥐',\n",
       " 'human': '사람',\n",
       " 'undefine': '모름',\n",
       " 'ndefine': '모름',\n",
       " 'ndefin': '모름',\n",
       " '멧돼지': '멧돼지사체',\n",
       " '돼지': '돼지사체',\n",
       " '설치류': '쥐'}"
      ]
     },
     "execution_count": 61,
     "metadata": {},
     "output_type": "execute_result"
    }
   ],
   "source": [
    "dict_cls = dict()\n",
    "for k, e in zip(class_names_kor, class_names):\n",
    "    dict_cls[e] = k\n",
    "    \n",
    "dict_cls['undefine'] = '모름'\n",
    "dict_cls['ndefine'] = '모름'\n",
    "dict_cls['ndefin'] = '모름'\n",
    "dict_cls['멧돼지'] = '멧돼지사체'\n",
    "dict_cls['돼지'] = '돼지사체'\n",
    "dict_cls['설치류'] = '쥐'\n",
    "dict_cls"
   ]
  },
  {
   "cell_type": "code",
   "execution_count": 62,
   "metadata": {},
   "outputs": [
    {
     "data": {
      "text/plain": [
       "array(['/home/mvlab/Downloads/dataset/pig/annotation/box1-10.csv',\n",
       "       '/home/mvlab/Downloads/dataset/pig/annotation/box1-11.csv',\n",
       "       '/home/mvlab/Downloads/dataset/pig/annotation/box2-10.xlsx',\n",
       "       '/home/mvlab/Downloads/dataset/pig/annotation/box2-11.csv',\n",
       "       '/home/mvlab/Downloads/dataset/pig/annotation/box3-10.csv.xlsx',\n",
       "       '/home/mvlab/Downloads/dataset/pig/annotation/box3-11.csv',\n",
       "       '/home/mvlab/Downloads/dataset/pig/annotation/box4-10.csv',\n",
       "       '/home/mvlab/Downloads/dataset/pig/annotation/box5-10.csv',\n",
       "       '/home/mvlab/Downloads/dataset/pig/annotation/box5-11_csv.csv',\n",
       "       '/home/mvlab/Downloads/dataset/pig/annotation/box6-10.csv',\n",
       "       '/home/mvlab/Downloads/dataset/pig/annotation/box6-11.csv'],\n",
       "      dtype='<U61')"
      ]
     },
     "execution_count": 62,
     "metadata": {},
     "output_type": "execute_result"
    }
   ],
   "source": [
    "#list_annotation = glob(folder_pig_annotation + 'box1-10.*')\n",
    "list_annotation = glob(folder_pig_annotation + '*.csv') + glob(folder_pig_annotation + '*.xlsx')\n",
    "list_annotation = np.sort(list_annotation)\n",
    "list_annotation"
   ]
  },
  {
   "cell_type": "code",
   "execution_count": 63,
   "metadata": {},
   "outputs": [],
   "source": [
    "def load_annotations(list_annotation):\n",
    "    list_df = []\n",
    "    for annotation in list_annotation:\n",
    "        if annotation.endswith('xlsx'):\n",
    "            df = pd.read_excel(annotation)\n",
    "        else:\n",
    "            df = pd.read_csv(annotation)\n",
    "            \n",
    "        print(annotation.split(os.sep)[-1], df.shape)\n",
    "        list_df.append(df)\n",
    "    return list_df        "
   ]
  },
  {
   "cell_type": "code",
   "execution_count": 64,
   "metadata": {},
   "outputs": [
    {
     "name": "stdout",
     "output_type": "stream",
     "text": [
      "box1-10.csv (3451, 7)\n",
      "box1-11.csv (7979, 7)\n",
      "box2-10.xlsx (855, 7)\n",
      "box2-11.csv (19648, 7)\n",
      "box3-10.csv.xlsx (15014, 7)\n",
      "box3-11.csv (21569, 7)\n",
      "box4-10.csv (6519, 7)\n",
      "box5-10.csv (1777, 7)\n",
      "box5-11_csv.csv (197, 7)\n",
      "box6-10.csv (1041, 7)\n",
      "box6-11.csv (24408, 7)\n"
     ]
    }
   ],
   "source": [
    "list_df = load_annotations(list_annotation)"
   ]
  },
  {
   "cell_type": "code",
   "execution_count": 65,
   "metadata": {},
   "outputs": [
    {
     "data": {
      "text/plain": [
       "(102458, 7)"
      ]
     },
     "execution_count": 65,
     "metadata": {},
     "output_type": "execute_result"
    }
   ],
   "source": [
    "#df = df6\n",
    "df = pd.concat(list_df, axis=0, ignore_index=True)\n",
    "df.shape"
   ]
  },
  {
   "cell_type": "code",
   "execution_count": 66,
   "metadata": {},
   "outputs": [
    {
     "data": {
      "text/plain": [
       "(46221, 7)"
      ]
     },
     "execution_count": 66,
     "metadata": {},
     "output_type": "execute_result"
    }
   ],
   "source": [
    "df = df[df['region_count']>0]\n",
    "df.shape"
   ]
  },
  {
   "cell_type": "code",
   "execution_count": 67,
   "metadata": {},
   "outputs": [
    {
     "data": {
      "text/plain": [
       "(188539,\n",
       " '/home/mvlab/Downloads/dataset/pig/pig2/2020-10/geomex-pig02_2020-09-10_074418_temp-18.00_wat-97.10.jpg')"
      ]
     },
     "execution_count": 67,
     "metadata": {},
     "output_type": "execute_result"
    }
   ],
   "source": [
    "path_images_0 = glob(folder_pig + '*/*/*.jpg')\n",
    "path_images_1 = glob(folder_pig + '*/*/*/*.jpg')\n",
    "path_images = path_images_0 + path_images_1\n",
    "\n",
    "dict_path = dict() #5.0 GiB 7.9%\n",
    "for path_image in path_images:\n",
    "    image_file_name = path_image.split(os.sep)[-1]\n",
    "    #print('image_file_name', image_file_name)\n",
    "    dict_path[image_file_name] = path_image    \n",
    "\n",
    "len(dict_path)\n",
    "len(path_images), path_images[0]"
   ]
  },
  {
   "cell_type": "code",
   "execution_count": 68,
   "metadata": {
    "scrolled": false
   },
   "outputs": [
    {
     "data": {
      "text/plain": [
       "array(['{\"class\":\"돼지\"}', '{\"class\":\"사람\"}', '{\"class\":\"모름\"}', '{}',\n",
       "       '{\"class\":\"멧돼지\"}', '{\"class\":\"흰배지빠귀\"}', '{\"class\":\"큰부리까마귀\"}',\n",
       "       '{\"class\":\"다람쥐\"}', '{\"class\":\"호랑지빠귀\"}', '{\"class\":\"설치류\"}',\n",
       "       '{\"class\":\"유리딱새\"}', '{\"class\":\"동고비\"}', '{\"class\":\"멧돼지사체\"}',\n",
       "       '{\"class\":\"박새\"}', '{\"class\":\"검독수리\"}', '{\"class\":\"너구리\"}',\n",
       "       '{\"class\":undefined}', '{\"class\":\"돼지사체\"}', '{\"class\":\"crow\"}',\n",
       "       '{\"class\":\"pig\"}'], dtype=object)"
      ]
     },
     "execution_count": 68,
     "metadata": {},
     "output_type": "execute_result"
    }
   ],
   "source": [
    "df['region_attributes'].unique()"
   ]
  },
  {
   "cell_type": "code",
   "execution_count": 69,
   "metadata": {
    "scrolled": true
   },
   "outputs": [],
   "source": [
    "#전처리 해서 df 저장, 학습에 사용\n",
    "\n",
    "list_cls = []\n",
    "list_valid = []\n",
    "pre = \"{'class':'\"\n",
    "end = [\"'}'\"]\n",
    "for v in df['region_attributes'].values:\n",
    "    cls = '{}'\n",
    "    is_valid = len(v) > 2\n",
    "    if is_valid:        \n",
    "        cls = v[len(pre):-2]\n",
    "        #cls.endswith(end[0])\n",
    "        if cls in dict_cls.keys():\n",
    "            cls = dict_cls[cls]\n",
    "            #print(v, cls)\n",
    "    \n",
    "    list_cls.append(cls)\n",
    "    list_valid.append(is_valid)\n",
    "    #break"
   ]
  },
  {
   "cell_type": "code",
   "execution_count": 70,
   "metadata": {},
   "outputs": [
    {
     "data": {
      "text/plain": [
       "0.9995456610631531"
      ]
     },
     "execution_count": 70,
     "metadata": {},
     "output_type": "execute_result"
    }
   ],
   "source": [
    "np.array(list_valid).mean()"
   ]
  },
  {
   "cell_type": "code",
   "execution_count": 71,
   "metadata": {},
   "outputs": [
    {
     "data": {
      "text/plain": [
       "(46221,\n",
       " 46221,\n",
       " array(['{}', '검독수리', '너구리', '다람쥐', '동고비', '돼지사체', '멧돼지사체', '모름', '박새',\n",
       "        '사람', '유리딱새', '쥐', '큰부리까마귀', '호랑지빠귀', '흰배지빠귀'], dtype='<U6'))"
      ]
     },
     "execution_count": 71,
     "metadata": {},
     "output_type": "execute_result"
    }
   ],
   "source": [
    "len(df), len(list_cls), np.unique(list_cls)"
   ]
  },
  {
   "cell_type": "code",
   "execution_count": 72,
   "metadata": {},
   "outputs": [
    {
     "data": {
      "text/plain": [
       "(46200, 7)"
      ]
     },
     "execution_count": 72,
     "metadata": {},
     "output_type": "execute_result"
    }
   ],
   "source": [
    "df['region_attributes'] = list_cls\n",
    "df = df[list_valid]\n",
    "df.shape"
   ]
  },
  {
   "cell_type": "code",
   "execution_count": 76,
   "metadata": {},
   "outputs": [
    {
     "data": {
      "text/plain": [
       "array(['돼지사체', '사람', '모름', '멧돼지사체', '흰배지빠귀', '큰부리까마귀', '다람쥐', '호랑지빠귀',\n",
       "       '쥐', '유리딱새', '동고비', '박새', '검독수리', '너구리'], dtype=object)"
      ]
     },
     "execution_count": 76,
     "metadata": {},
     "output_type": "execute_result"
    }
   ],
   "source": [
    "df['region_attributes'].unique()"
   ]
  },
  {
   "cell_type": "code",
   "execution_count": 90,
   "metadata": {},
   "outputs": [],
   "source": [
    "df['category'] = df['region_attributes'].replace(category_dict)"
   ]
  },
  {
   "cell_type": "code",
   "execution_count": 91,
   "metadata": {},
   "outputs": [
    {
     "data": {
      "text/plain": [
       "array(['포유류', '영장류', '조류', '설치류'], dtype=object)"
      ]
     },
     "execution_count": 91,
     "metadata": {},
     "output_type": "execute_result"
    }
   ],
   "source": [
    "df['category'].unique()"
   ]
  },
  {
   "cell_type": "code",
   "execution_count": 92,
   "metadata": {
    "scrolled": true
   },
   "outputs": [
    {
     "data": {
      "text/html": [
       "<div>\n",
       "<style scoped>\n",
       "    .dataframe tbody tr th:only-of-type {\n",
       "        vertical-align: middle;\n",
       "    }\n",
       "\n",
       "    .dataframe tbody tr th {\n",
       "        vertical-align: top;\n",
       "    }\n",
       "\n",
       "    .dataframe thead th {\n",
       "        text-align: right;\n",
       "    }\n",
       "</style>\n",
       "<table border=\"1\" class=\"dataframe\">\n",
       "  <thead>\n",
       "    <tr style=\"text-align: right;\">\n",
       "      <th></th>\n",
       "      <th>filename</th>\n",
       "      <th>file_size</th>\n",
       "      <th>file_attributes</th>\n",
       "      <th>region_count</th>\n",
       "      <th>region_id</th>\n",
       "      <th>region_shape_attributes</th>\n",
       "      <th>region_attributes</th>\n",
       "      <th>category</th>\n",
       "    </tr>\n",
       "  </thead>\n",
       "  <tbody>\n",
       "    <tr>\n",
       "      <th>0</th>\n",
       "      <td>geomex-pig01_2020-09-03_125416_temp-19.70_wat-...</td>\n",
       "      <td>362254</td>\n",
       "      <td>{}</td>\n",
       "      <td>2</td>\n",
       "      <td>0</td>\n",
       "      <td>{\"name\":\"rect\",\"x\":583,\"y\":463,\"width\":453,\"he...</td>\n",
       "      <td>돼지사체</td>\n",
       "      <td>포유류</td>\n",
       "    </tr>\n",
       "    <tr>\n",
       "      <th>1</th>\n",
       "      <td>geomex-pig01_2020-09-03_125416_temp-19.70_wat-...</td>\n",
       "      <td>362254</td>\n",
       "      <td>{}</td>\n",
       "      <td>2</td>\n",
       "      <td>1</td>\n",
       "      <td>{\"name\":\"rect\",\"x\":560,\"y\":563,\"width\":224,\"he...</td>\n",
       "      <td>사람</td>\n",
       "      <td>영장류</td>\n",
       "    </tr>\n",
       "    <tr>\n",
       "      <th>2</th>\n",
       "      <td>geomex-pig01_2020-09-03_125706_temp-19.80_wat-...</td>\n",
       "      <td>365469</td>\n",
       "      <td>{}</td>\n",
       "      <td>2</td>\n",
       "      <td>0</td>\n",
       "      <td>{\"name\":\"rect\",\"x\":907,\"y\":332,\"width\":211,\"he...</td>\n",
       "      <td>사람</td>\n",
       "      <td>영장류</td>\n",
       "    </tr>\n",
       "    <tr>\n",
       "      <th>3</th>\n",
       "      <td>geomex-pig01_2020-09-03_125706_temp-19.80_wat-...</td>\n",
       "      <td>365469</td>\n",
       "      <td>{}</td>\n",
       "      <td>2</td>\n",
       "      <td>1</td>\n",
       "      <td>{\"name\":\"rect\",\"x\":584,\"y\":457,\"width\":369,\"he...</td>\n",
       "      <td>사람</td>\n",
       "      <td>영장류</td>\n",
       "    </tr>\n",
       "    <tr>\n",
       "      <th>4</th>\n",
       "      <td>geomex-pig01_2020-09-03_125956_temp-20.70_wat-...</td>\n",
       "      <td>362131</td>\n",
       "      <td>{}</td>\n",
       "      <td>2</td>\n",
       "      <td>0</td>\n",
       "      <td>{\"name\":\"rect\",\"x\":339,\"y\":128,\"width\":107,\"he...</td>\n",
       "      <td>사람</td>\n",
       "      <td>영장류</td>\n",
       "    </tr>\n",
       "  </tbody>\n",
       "</table>\n",
       "</div>"
      ],
      "text/plain": [
       "                                            filename  file_size  \\\n",
       "0  geomex-pig01_2020-09-03_125416_temp-19.70_wat-...     362254   \n",
       "1  geomex-pig01_2020-09-03_125416_temp-19.70_wat-...     362254   \n",
       "2  geomex-pig01_2020-09-03_125706_temp-19.80_wat-...     365469   \n",
       "3  geomex-pig01_2020-09-03_125706_temp-19.80_wat-...     365469   \n",
       "4  geomex-pig01_2020-09-03_125956_temp-20.70_wat-...     362131   \n",
       "\n",
       "  file_attributes  region_count  region_id  \\\n",
       "0              {}             2          0   \n",
       "1              {}             2          1   \n",
       "2              {}             2          0   \n",
       "3              {}             2          1   \n",
       "4              {}             2          0   \n",
       "\n",
       "                             region_shape_attributes region_attributes  \\\n",
       "0  {\"name\":\"rect\",\"x\":583,\"y\":463,\"width\":453,\"he...              돼지사체   \n",
       "1  {\"name\":\"rect\",\"x\":560,\"y\":563,\"width\":224,\"he...                사람   \n",
       "2  {\"name\":\"rect\",\"x\":907,\"y\":332,\"width\":211,\"he...                사람   \n",
       "3  {\"name\":\"rect\",\"x\":584,\"y\":457,\"width\":369,\"he...                사람   \n",
       "4  {\"name\":\"rect\",\"x\":339,\"y\":128,\"width\":107,\"he...                사람   \n",
       "\n",
       "  category  \n",
       "0      포유류  \n",
       "1      영장류  \n",
       "2      영장류  \n",
       "3      영장류  \n",
       "4      영장류  "
      ]
     },
     "execution_count": 92,
     "metadata": {},
     "output_type": "execute_result"
    }
   ],
   "source": [
    "df.head()"
   ]
  },
  {
   "cell_type": "code",
   "execution_count": 93,
   "metadata": {},
   "outputs": [],
   "source": [
    "df.to_csv('all_2021-1-2.csv')"
   ]
  },
  {
   "cell_type": "code",
   "execution_count": 43,
   "metadata": {
    "scrolled": false
   },
   "outputs": [
    {
     "name": "stdout",
     "output_type": "stream",
     "text": [
      "() geomex-pig04_2020-09-12_085151_temp-17.50_wat-99.90 (1).jpg\n",
      "() geomex-pig04_2020-09-12_085151_temp-17.50_wat-99.90 (1).jpg\n",
      "() geomex-pig04_2020-09-12_085151_temp-17.50_wat-99.90 (1).jpg\n",
      "() geomex-pig04_2020-10-30_092128_temp-11.50_wat-51.40 (1).jpg\n",
      "() geomex-pig04_2020-10-30_092128_temp-11.50_wat-51.40 (1).jpg\n"
     ]
    }
   ],
   "source": [
    "annotation = dict()\n",
    "object_width_list = []\n",
    "for i in range(len(df)):        \n",
    "    sample_row = df.iloc[i]\n",
    "    filename = sample_row['filename']    \n",
    "    region_id = sample_row['region_id']\n",
    "    box = sample_row['region_shape_attributes']    \n",
    "    cls = sample_row['region_attributes'] \n",
    "    \n",
    "    if '(' in filename:\n",
    "        print('()', filename)\n",
    "    try:\n",
    "        box_map = ast.literal_eval(box)    \n",
    "        \n",
    "    except:\n",
    "        print('except filename',i, filename)\n",
    "        print('box', box)        \n",
    "        continue\n",
    "    \n",
    "    if cls in class_names_kor:\n",
    "        cls_num = class_names_kor.index(cls)\n",
    "    else:\n",
    "        print('no key', cls)\n",
    "        break\n",
    "        \n",
    "    x0 = box_map['x']\n",
    "    y0 = box_map['y']\n",
    "    width = box_map['width']\n",
    "    height = box_map['height']    \n",
    "   \n",
    "    object_width_list.append(width)    \n",
    "    bbox = [cls_num, x0, y0, x0 + width, y0 + height]\n",
    "    \n",
    "    if filename not in annotation.keys():\n",
    "        annotation[filename] = []\n",
    "   \n",
    "    annotation[filename].append(bbox)     "
   ]
  },
  {
   "cell_type": "code",
   "execution_count": 44,
   "metadata": {},
   "outputs": [
    {
     "data": {
      "text/plain": [
       "13165"
      ]
     },
     "execution_count": 44,
     "metadata": {},
     "output_type": "execute_result"
    }
   ],
   "source": [
    "len(annotation)"
   ]
  },
  {
   "cell_type": "code",
   "execution_count": 21,
   "metadata": {},
   "outputs": [
    {
     "name": "stdout",
     "output_type": "stream",
     "text": [
      "13165 100 100\n",
      "13165 200 200\n",
      "270 270\n"
     ]
    }
   ],
   "source": [
    "def load_pig(stride=1):\n",
    "    input_list = []\n",
    "    bbox_list = []\n",
    "    path_list = []\n",
    "    for path_image in annotation:\n",
    "        if stride > 1 and np.random.randint(0, stride) > 1:\n",
    "            continue\n",
    "            \n",
    "        cls_bbox = annotation[path_image]\n",
    "        cls_bbox = np.array(cls_bbox).reshape([-1, 5])\n",
    "        cls = cls_bbox[:, 0:1]\n",
    "        bbox = np.array(cls_bbox[:, 1:])\n",
    "              \n",
    "        full_path = dict_path[path_image]\n",
    "        if os.path.isfile(full_path):\n",
    "            img = Image.open(full_path)                           \n",
    "            scale = np.array((img.width, img.height, img.width, img.height)).reshape((1, 4))            \n",
    "            #print(key, cls, cls_bbox.dtype, cls_bbox, 'wh',img.width, img.height)\n",
    "            \n",
    "            if use_size_down:\n",
    "                w, h = img.size\n",
    "                img = img.resize((w//2, h//2))\n",
    "            img_arr = np.array(img)        \n",
    "            \n",
    "            bbox_norm = bbox.astype(np.float) / scale.astype(np.float)\n",
    "            cls = np.array(cls).reshape((-1, 1))\n",
    "            cls_bbox_norm = np.concatenate((cls, bbox_norm), axis=1)\n",
    "                \n",
    "            input_list.append(img_arr)\n",
    "            bbox_list.append(cls_bbox_norm)\n",
    "            path_list.append(full_path)\n",
    "            if len(input_list)%100==0:        \n",
    "                print(len(annotation), len(input_list), len(bbox_list))   \n",
    "            if len(input_list) > 15000:\n",
    "                print('stop', len(input_list))\n",
    "                break\n",
    "        else:\n",
    "            print('not exist', path_image)\n",
    "            print('not exist full_path', full_path)\n",
    "\n",
    "    print(len(input_list), len(bbox_list))\n",
    "    return input_list, bbox_list\n",
    "    \n",
    "input_list_pig, bbox_list_pig = load_pig(stride=100)"
   ]
  },
  {
   "cell_type": "code",
   "execution_count": 22,
   "metadata": {},
   "outputs": [
    {
     "data": {
      "text/plain": [
       "((953, 5), 691)"
      ]
     },
     "execution_count": 22,
     "metadata": {},
     "output_type": "execute_result"
    }
   ],
   "source": [
    "boxes = np.concatenate(bbox_list_pig, 0)\n",
    "boxes.shape, np.sum(boxes[:, 0]>3)"
   ]
  },
  {
   "cell_type": "code",
   "execution_count": 23,
   "metadata": {},
   "outputs": [
    {
     "data": {
      "text/plain": [
       "270"
      ]
     },
     "execution_count": 23,
     "metadata": {},
     "output_type": "execute_result"
    }
   ],
   "source": [
    "len(input_list_pig)"
   ]
  },
  {
   "cell_type": "code",
   "execution_count": 24,
   "metadata": {},
   "outputs": [],
   "source": [
    "def crop_bbox_image(image, boxes):\n",
    "    img_objects = []\n",
    "    image = np.array(image)\n",
    "    for box in boxes:        \n",
    "        box = box.astype(np.int)\n",
    "        x1, y1, x2, y2 = box\n",
    "        w = x2 - x1\n",
    "        h = y2 - y1        \n",
    "        crop_image_arr = image[y1:y2, x1:x2]\n",
    "        ch, cw, cc = crop_image_arr.shape\n",
    "        if ch>1 and cw>1:\n",
    "            img_objects.append(crop_image_arr)\n",
    "        else:\n",
    "            print('crop_bbox_image', x2-x1, y2-y1, 'crop_image_arr.shape', crop_image_arr.shape)\n",
    "        \n",
    "    return img_objects\n",
    "    \n",
    "    \n",
    "def attach_crop_image(image, boxes, max_crop=200):\n",
    "        \n",
    "    crop_bbox_arr = crop_bbox_image(image, np.array(boxes)[:max_crop])\n",
    "    bbox_k = len(crop_bbox_arr)\n",
    "    max_col = 30\n",
    "    \n",
    "    if bbox_k > 0:\n",
    "        img_h, img_w, img_c = image.shape\n",
    "        object_img_w = img_w//bbox_k        \n",
    "        resize_h = img_h // 8\n",
    "        resize_w = img_w // bbox_k  \n",
    "        resize_w = min(max(resize_w, img_w//max_col), img_w//8)\n",
    "        \n",
    "        footer_h = resize_h * (1 + (bbox_k-1)//max_col)\n",
    "        footer = np.zeros((footer_h, img_w, img_c), np.uint8)\n",
    "        \n",
    "        for i in range(min(bbox_k, max_crop)):\n",
    "            crop_arr = crop_bbox_arr[i]\n",
    "            crop_img = Image.fromarray(crop_arr)                \n",
    "            crop_img = crop_img.resize((resize_w, resize_h))\n",
    "            crop_arr_resized = np.array(crop_img)\n",
    "            offset_y = (i//max_col) * resize_h\n",
    "            offset_x = (i%max_col) * resize_w\n",
    "            footer[offset_y:offset_y+resize_h, offset_x:offset_x+resize_w] = crop_arr_resized\n",
    "\n",
    "        seperate_line = np.zeros_like(footer[:2])\n",
    "        image = np.concatenate((image, seperate_line, footer), axis=0)    \n",
    "    return image    "
   ]
  },
  {
   "cell_type": "code",
   "execution_count": 25,
   "metadata": {},
   "outputs": [],
   "source": [
    "def visualize_detections_simple(\n",
    "    image, boxes, classes, figsize=(12, 12), linewidth=1, color=[0, 0, 1]\n",
    "):\n",
    "    \"\"\"Visualize Detections\"\"\"\n",
    "    image = np.array(image, dtype=np.uint8)    \n",
    "    \n",
    "    img_h, img_w, img_c = image.shape\n",
    "    \n",
    "    image = attach_crop_image(image, boxes, max_crop=100)\n",
    "    \n",
    "    plt.figure(figsize=figsize)\n",
    "    plt.axis(\"off\")\n",
    "    plt.imshow(image)\n",
    "    ax = plt.gca()\n",
    "    boxes_width = boxes[:, 2] - boxes[:, 0]\n",
    "    boxes_height = boxes[:, 3] - boxes[:, 1]\n",
    "    box_min_width = np.min(boxes_width)\n",
    "    box_max_width = np.max(boxes_width)\n",
    "    title = str.format('(%dx%d) %d box, width:%d ~ %d' \n",
    "                       %(img_h, img_w, len(boxes), box_min_width, box_max_width))\n",
    "    plt.title(title)\n",
    "    for box, cls in zip(boxes, classes):\n",
    "        x1, y1, x2, y2 = box        \n",
    "        w, h = x2 - x1, y2 - y1\n",
    "        #color = edgecolors[int(cls)]\n",
    "        color = (1, 1, 1)\n",
    "        patch = plt.Rectangle(\n",
    "            [x1, y1], w, h, fill=False, edgecolor=color, linewidth=linewidth\n",
    "        )\n",
    "        ax.add_patch(patch)\n",
    "        if len(boxes) < 70:\n",
    "            score_txt = class_names[int(cls)]\n",
    "            ax.text(x1, y1, score_txt, bbox={\"facecolor\": [1,1,0], \"alpha\": 0.4}, clip_box=ax.clipbox, clip_on=True,)\n",
    "        \n",
    "    plt.show()\n",
    "    return ax\n",
    "\n",
    "def display_data(X, BBOX, stride=1):\n",
    "    for i in range(len(X)):\n",
    "        if i%stride==0:\n",
    "            img_arr = X[i]\n",
    "            sample_box = BBOX[i]\n",
    "            label = sample_box[:, 0]\n",
    "            bbox = sample_box[:, 1:]\n",
    "\n",
    "            h, w, c = img_arr.shape\n",
    "            scale = np.array((w, h, w, h))\n",
    "            scale = np.reshape(scale, (1, 4))\n",
    "            bbox_norm = bbox.astype(np.float) * scale.astype(np.float)\n",
    "            #print('bbox_norm', bbox, bbox_norm)\n",
    "            print(i, np.unique(label))\n",
    "            ax = visualize_detections_simple(img_arr,bbox_norm,label)"
   ]
  },
  {
   "cell_type": "markdown",
   "metadata": {
    "scrolled": false
   },
   "source": [
    "s = 0#len(input_list_pig)//2\n",
    "e = -1\n",
    "display_data(input_list_pig[s:e], bbox_list_pig[s:e], stride=10)"
   ]
  },
  {
   "cell_type": "code",
   "execution_count": null,
   "metadata": {},
   "outputs": [],
   "source": []
  }
 ],
 "metadata": {
  "kernelspec": {
   "display_name": "Python 3",
   "language": "python",
   "name": "python3"
  },
  "language_info": {
   "codemirror_mode": {
    "name": "ipython",
    "version": 3
   },
   "file_extension": ".py",
   "mimetype": "text/x-python",
   "name": "python",
   "nbconvert_exporter": "python",
   "pygments_lexer": "ipython3",
   "version": "3.8.3"
  }
 },
 "nbformat": 4,
 "nbformat_minor": 4
}
